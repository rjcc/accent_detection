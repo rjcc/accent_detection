{
  "nbformat": 4,
  "nbformat_minor": 0,
  "metadata": {
    "colab": {
      "name": "AccentDetectionResNet_v1",
      "version": "0.3.2",
      "provenance": [],
      "collapsed_sections": [],
      "toc_visible": true,
      "include_colab_link": true
    },
    "kernelspec": {
      "name": "python3",
      "display_name": "Python 3"
    },
    "accelerator": "GPU"
  },
  "cells": [
    {
      "cell_type": "markdown",
      "metadata": {
        "id": "view-in-github",
        "colab_type": "text"
      },
      "source": [
        "<a href=\"https://colab.research.google.com/github/rjcc/accent_detection/blob/master/AccentDetectionResNet_v1.ipynb\" target=\"_parent\"><img src=\"https://colab.research.google.com/assets/colab-badge.svg\" alt=\"Open In Colab\"/></a>"
      ]
    },
    {
      "cell_type": "markdown",
      "metadata": {
        "id": "G7kghzERL7LT",
        "colab_type": "text"
      },
      "source": [
        "# 1. Environment Setup"
      ]
    },
    {
      "cell_type": "markdown",
      "metadata": {
        "id": "woHokpL7LzOd",
        "colab_type": "text"
      },
      "source": [
        "Lets import basic libraries required for most tasks"
      ]
    },
    {
      "cell_type": "code",
      "metadata": {
        "id": "PtRRTYQq4LrK",
        "colab_type": "code",
        "colab": {}
      },
      "source": [
        "import os\n",
        "import numpy as np\n",
        "import pandas as pd\n",
        "import matplotlib.pyplot as plt\n",
        "import csv\n",
        "from datetime import datetime\n",
        "\n",
        "%matplotlib inline \n"
      ],
      "execution_count": 0,
      "outputs": []
    },
    {
      "cell_type": "markdown",
      "metadata": {
        "id": "-JmYIEYxMmsV",
        "colab_type": "text"
      },
      "source": [
        "Lets get the data from GitHub"
      ]
    },
    {
      "cell_type": "code",
      "metadata": {
        "id": "gzGq4PBHablZ",
        "colab_type": "code",
        "outputId": "79a015a6-036b-4adb-cf9a-1bcfc363c4d7",
        "colab": {
          "base_uri": "https://localhost:8080/",
          "height": 34
        }
      },
      "source": [
        "!git clone https://github.com/rjcc/accent_detection.git"
      ],
      "execution_count": 0,
      "outputs": [
        {
          "output_type": "stream",
          "text": [
            "fatal: destination path 'accent_detection' already exists and is not an empty directory.\n"
          ],
          "name": "stdout"
        }
      ]
    },
    {
      "cell_type": "markdown",
      "metadata": {
        "id": "LUAm4sE_M933",
        "colab_type": "text"
      },
      "source": [
        "Lets install TF 2.0 Beta"
      ]
    },
    {
      "cell_type": "code",
      "metadata": {
        "id": "41SteSlHjgN1",
        "colab_type": "code",
        "outputId": "b8f2a241-4842-4ca6-d4e7-a3b1117fac9d",
        "colab": {
          "base_uri": "https://localhost:8080/",
          "height": 34
        }
      },
      "source": [
        "# Run this cell to mount your Google Drive.\n",
        "from google.colab import drive\n",
        "drive.mount('/content/drive')"
      ],
      "execution_count": 0,
      "outputs": [
        {
          "output_type": "stream",
          "text": [
            "Drive already mounted at /content/drive; to attempt to forcibly remount, call drive.mount(\"/content/drive\", force_remount=True).\n"
          ],
          "name": "stdout"
        }
      ]
    },
    {
      "cell_type": "code",
      "metadata": {
        "id": "y7fA4-Dojs-G",
        "colab_type": "code",
        "colab": {}
      },
      "source": [
        "!pip install -q tensorflow-gpu==2.0.0-beta0"
      ],
      "execution_count": 0,
      "outputs": []
    },
    {
      "cell_type": "markdown",
      "metadata": {
        "id": "U1vQXt6KNDZH",
        "colab_type": "text"
      },
      "source": [
        "Now we import the necessary modules to build the model.\n",
        "\n",
        "Also do a sanity check on the version and confirm we are running with GPU's"
      ]
    },
    {
      "cell_type": "code",
      "metadata": {
        "id": "kg0xrL3i491Q",
        "colab_type": "code",
        "outputId": "741f54aa-2753-4fc3-cb15-902e73ecf59a",
        "colab": {
          "base_uri": "https://localhost:8080/",
          "height": 51
        }
      },
      "source": [
        "import tensorflow as tf\n",
        "from tensorflow.keras.applications import ResNet50\n",
        "from tensorflow.keras.models import Sequential, Model\n",
        "from tensorflow.keras.layers import Dense, Dropout, Conv2D, MaxPooling2D, Activation, Flatten, Add, BatchNormalization, Input, ZeroPadding2D, AveragePooling2D,GlobalAveragePooling2D\n",
        "from tensorflow.keras.preprocessing.image import ImageDataGenerator\n",
        "from tensorflow.keras.callbacks import EarlyStopping, ModelCheckpoint,ReduceLROnPlateau \n",
        "from tensorflow.python.keras.preprocessing.image import load_img, img_to_array, array_to_img\n",
        "from tensorflow.keras.initializers import RandomNormal, glorot_uniform\n",
        "from tensorflow.keras.models import  load_model\n",
        "\n",
        "\n",
        "print(tf.__version__)\n",
        "print(tf.test.is_gpu_available())"
      ],
      "execution_count": 0,
      "outputs": [
        {
          "output_type": "stream",
          "text": [
            "2.0.0-beta0\n",
            "True\n"
          ],
          "name": "stdout"
        }
      ]
    },
    {
      "cell_type": "markdown",
      "metadata": {
        "id": "o0XirjYnNXbk",
        "colab_type": "text"
      },
      "source": [
        "Now, lets setup some useful variables used for the training"
      ]
    },
    {
      "cell_type": "code",
      "metadata": {
        "id": "dWSPk0sH5O-M",
        "colab_type": "code",
        "colab": {}
      },
      "source": [
        "# Notebook version token to associated with generated output\n",
        "NBV = \"ResNet_V1\"\n",
        "\n",
        "# Binary classification we only use one class\n",
        "NUM_CLASSES = 3\n",
        "\n",
        "# Since we are working with colored images, we need to specify 3 channels\n",
        "CHANNELS = 1\n",
        "\n",
        "BATCH_SIZE = 32\n",
        "\n",
        "# Activation for last Dense layer in Binary classfication\n",
        "DENSE_LAYER_ACTIVATION = 'softmax'\n",
        "\n",
        "# Objective function used for binary classification\n",
        "OBJECTIVE_FUNCTION = 'categorical_crossentropy'\n",
        "\n",
        "# Common accuracy metric for all outputs, but can use different metrics for different output\n",
        "LOSS_METRICS = ['categorical_accuracy'] #sparse_categorical_accuracy\n",
        "\n",
        "# EARLY_STOP_PATIENCE must be < NUM_EPOCHS\n",
        "NUM_EPOCHS = 200\n",
        "EARLY_STOP_PATIENCE = 20\n",
        "\n",
        "TRAINING_PATH = \"/content/accent_detection/train/\" \n",
        "TEST_PATH = \"/content/accent_detection/test/predict\"\n",
        "\n",
        "LABELS = \"/content/accent_detection/train_labels.csv\"\n",
        "\n",
        "#TENSORBOARD_LOGS = \"/content/gdrive/My Drive/MalariaDetectionProject/Tensorboard/\"\n",
        "\n",
        "PROJECT_FOLDER= \"/content/accent_detection/\"\n",
        "OUTPUT_FOLDER = \"/content/drive/My Drive/Accent_Detection_Out/\"\n",
        "\n",
        "#image sizes taken from problem description\n",
        "img_width = 173\n",
        "img_height = 128\n",
        "\n",
        "RETRAIN = False"
      ],
      "execution_count": 0,
      "outputs": []
    },
    {
      "cell_type": "markdown",
      "metadata": {
        "id": "k9u4lVLiPFso",
        "colab_type": "text"
      },
      "source": [
        "# Preparing the data sets"
      ]
    },
    {
      "cell_type": "markdown",
      "metadata": {
        "id": "JVjGI-XhPqJE",
        "colab_type": "text"
      },
      "source": [
        "Define the input shape to feed into our model"
      ]
    },
    {
      "cell_type": "code",
      "metadata": {
        "id": "TOX8QSTlZd4-",
        "colab_type": "code",
        "outputId": "75634154-994a-4093-8c16-14e5d0349572",
        "colab": {
          "base_uri": "https://localhost:8080/",
          "height": 51
        }
      },
      "source": [
        "if  tf.keras.backend.image_data_format() == 'channels_first':\n",
        "    input_shape = (CHANNELS, img_width, img_height)\n",
        "else:\n",
        "    input_shape = (img_width, img_height, CHANNELS)\n",
        "    \n",
        "\n",
        "print(tf.keras.backend.image_data_format())\n",
        "print(input_shape)"
      ],
      "execution_count": 0,
      "outputs": [
        {
          "output_type": "stream",
          "text": [
            "channels_last\n",
            "(173, 128, 1)\n"
          ],
          "name": "stdout"
        }
      ]
    },
    {
      "cell_type": "markdown",
      "metadata": {
        "id": "JgGpKWPXPvC_",
        "colab_type": "text"
      },
      "source": [
        "Lets read the CSV with the file names and respective labels.\n",
        "\n",
        "Infected is modified as one of the functions used below required it to be a string. (flow_from_dataframe()  ?)\n",
        "\n",
        "Filename is also adusted so that the file scan be fectched from the folder."
      ]
    },
    {
      "cell_type": "code",
      "metadata": {
        "id": "nij8tjwa5Qv4",
        "colab_type": "code",
        "outputId": "db5584ed-6b05-48c9-a7d8-aec59e1c1da4",
        "colab": {
          "base_uri": "https://localhost:8080/",
          "height": 204
        }
      },
      "source": [
        "labels = pd.read_csv(LABELS)\n",
        "labels.head()"
      ],
      "execution_count": 0,
      "outputs": [
        {
          "output_type": "execute_result",
          "data": {
            "text/html": [
              "<div>\n",
              "<style scoped>\n",
              "    .dataframe tbody tr th:only-of-type {\n",
              "        vertical-align: middle;\n",
              "    }\n",
              "\n",
              "    .dataframe tbody tr th {\n",
              "        vertical-align: top;\n",
              "    }\n",
              "\n",
              "    .dataframe thead th {\n",
              "        text-align: right;\n",
              "    }\n",
              "</style>\n",
              "<table border=\"1\" class=\"dataframe\">\n",
              "  <thead>\n",
              "    <tr style=\"text-align: right;\">\n",
              "      <th></th>\n",
              "      <th>file_id</th>\n",
              "      <th>accent</th>\n",
              "    </tr>\n",
              "  </thead>\n",
              "  <tbody>\n",
              "    <tr>\n",
              "      <th>0</th>\n",
              "      <td>10000</td>\n",
              "      <td>1</td>\n",
              "    </tr>\n",
              "    <tr>\n",
              "      <th>1</th>\n",
              "      <td>10001</td>\n",
              "      <td>1</td>\n",
              "    </tr>\n",
              "    <tr>\n",
              "      <th>2</th>\n",
              "      <td>10002</td>\n",
              "      <td>0</td>\n",
              "    </tr>\n",
              "    <tr>\n",
              "      <th>3</th>\n",
              "      <td>10003</td>\n",
              "      <td>2</td>\n",
              "    </tr>\n",
              "    <tr>\n",
              "      <th>4</th>\n",
              "      <td>10004</td>\n",
              "      <td>1</td>\n",
              "    </tr>\n",
              "  </tbody>\n",
              "</table>\n",
              "</div>"
            ],
            "text/plain": [
              "   file_id  accent\n",
              "0    10000       1\n",
              "1    10001       1\n",
              "2    10002       0\n",
              "3    10003       2\n",
              "4    10004       1"
            ]
          },
          "metadata": {
            "tags": []
          },
          "execution_count": 9
        }
      ]
    },
    {
      "cell_type": "code",
      "metadata": {
        "id": "xqGfW9og1Ari",
        "colab_type": "code",
        "outputId": "c2a87526-e898-4266-d3a2-e6c8d2e56fd5",
        "colab": {
          "base_uri": "https://localhost:8080/",
          "height": 204
        }
      },
      "source": [
        "def replace_label(label):\n",
        "    txt = \"\"\n",
        "    if label == 0 :\n",
        "        txt =\"Canada\"\n",
        "    elif label == 1:\n",
        "        txt = \"India\"\n",
        "    elif label == 2:\n",
        "        txt = \"England\"\n",
        "    \n",
        "    return txt\n",
        "    \n",
        "\n",
        "#labels[\"accent\"] = labels[\"accent\"].map(lambda x: replace_label(x))\n",
        "labels[\"accent\"] = labels[\"accent\"].astype(str)\n",
        "labels[\"file_id\"] = labels[\"file_id\"].map(lambda x: \"./{}.png\".format(x))\n",
        "\n",
        "labels.head() #sanity check"
      ],
      "execution_count": 0,
      "outputs": [
        {
          "output_type": "execute_result",
          "data": {
            "text/html": [
              "<div>\n",
              "<style scoped>\n",
              "    .dataframe tbody tr th:only-of-type {\n",
              "        vertical-align: middle;\n",
              "    }\n",
              "\n",
              "    .dataframe tbody tr th {\n",
              "        vertical-align: top;\n",
              "    }\n",
              "\n",
              "    .dataframe thead th {\n",
              "        text-align: right;\n",
              "    }\n",
              "</style>\n",
              "<table border=\"1\" class=\"dataframe\">\n",
              "  <thead>\n",
              "    <tr style=\"text-align: right;\">\n",
              "      <th></th>\n",
              "      <th>file_id</th>\n",
              "      <th>accent</th>\n",
              "    </tr>\n",
              "  </thead>\n",
              "  <tbody>\n",
              "    <tr>\n",
              "      <th>0</th>\n",
              "      <td>./10000.png</td>\n",
              "      <td>1</td>\n",
              "    </tr>\n",
              "    <tr>\n",
              "      <th>1</th>\n",
              "      <td>./10001.png</td>\n",
              "      <td>1</td>\n",
              "    </tr>\n",
              "    <tr>\n",
              "      <th>2</th>\n",
              "      <td>./10002.png</td>\n",
              "      <td>0</td>\n",
              "    </tr>\n",
              "    <tr>\n",
              "      <th>3</th>\n",
              "      <td>./10003.png</td>\n",
              "      <td>2</td>\n",
              "    </tr>\n",
              "    <tr>\n",
              "      <th>4</th>\n",
              "      <td>./10004.png</td>\n",
              "      <td>1</td>\n",
              "    </tr>\n",
              "  </tbody>\n",
              "</table>\n",
              "</div>"
            ],
            "text/plain": [
              "       file_id accent\n",
              "0  ./10000.png      1\n",
              "1  ./10001.png      1\n",
              "2  ./10002.png      0\n",
              "3  ./10003.png      2\n",
              "4  ./10004.png      1"
            ]
          },
          "metadata": {
            "tags": []
          },
          "execution_count": 10
        }
      ]
    },
    {
      "cell_type": "markdown",
      "metadata": {
        "id": "ib9MOw-TQp2V",
        "colab_type": "text"
      },
      "source": [
        "Now lets split the "
      ]
    },
    {
      "cell_type": "code",
      "metadata": {
        "id": "P0pQAHlSSeli",
        "colab_type": "code",
        "outputId": "f3b9ec51-f232-4749-e0fb-d8dd7e955489",
        "colab": {
          "base_uri": "https://localhost:8080/",
          "height": 204
        }
      },
      "source": [
        "from sklearn.model_selection import train_test_split \n",
        "train, val = train_test_split(labels, random_state = 123, test_size=0.25, stratify=labels['accent'])\n",
        "\n",
        "#sanity check\n",
        "train.head() \n"
      ],
      "execution_count": 0,
      "outputs": [
        {
          "output_type": "execute_result",
          "data": {
            "text/html": [
              "<div>\n",
              "<style scoped>\n",
              "    .dataframe tbody tr th:only-of-type {\n",
              "        vertical-align: middle;\n",
              "    }\n",
              "\n",
              "    .dataframe tbody tr th {\n",
              "        vertical-align: top;\n",
              "    }\n",
              "\n",
              "    .dataframe thead th {\n",
              "        text-align: right;\n",
              "    }\n",
              "</style>\n",
              "<table border=\"1\" class=\"dataframe\">\n",
              "  <thead>\n",
              "    <tr style=\"text-align: right;\">\n",
              "      <th></th>\n",
              "      <th>file_id</th>\n",
              "      <th>accent</th>\n",
              "    </tr>\n",
              "  </thead>\n",
              "  <tbody>\n",
              "    <tr>\n",
              "      <th>1187</th>\n",
              "      <td>./11187.png</td>\n",
              "      <td>2</td>\n",
              "    </tr>\n",
              "    <tr>\n",
              "      <th>2937</th>\n",
              "      <td>./12937.png</td>\n",
              "      <td>0</td>\n",
              "    </tr>\n",
              "    <tr>\n",
              "      <th>3861</th>\n",
              "      <td>./13861.png</td>\n",
              "      <td>1</td>\n",
              "    </tr>\n",
              "    <tr>\n",
              "      <th>3123</th>\n",
              "      <td>./13123.png</td>\n",
              "      <td>1</td>\n",
              "    </tr>\n",
              "    <tr>\n",
              "      <th>2971</th>\n",
              "      <td>./12971.png</td>\n",
              "      <td>2</td>\n",
              "    </tr>\n",
              "  </tbody>\n",
              "</table>\n",
              "</div>"
            ],
            "text/plain": [
              "          file_id accent\n",
              "1187  ./11187.png      2\n",
              "2937  ./12937.png      0\n",
              "3861  ./13861.png      1\n",
              "3123  ./13123.png      1\n",
              "2971  ./12971.png      2"
            ]
          },
          "metadata": {
            "tags": []
          },
          "execution_count": 11
        }
      ]
    },
    {
      "cell_type": "code",
      "metadata": {
        "id": "ZnoPRRBfSzwY",
        "colab_type": "code",
        "outputId": "a6e43d7d-bb46-4f96-9d03-f85785154e8f",
        "colab": {
          "base_uri": "https://localhost:8080/",
          "height": 204
        }
      },
      "source": [
        "val.head()"
      ],
      "execution_count": 0,
      "outputs": [
        {
          "output_type": "execute_result",
          "data": {
            "text/html": [
              "<div>\n",
              "<style scoped>\n",
              "    .dataframe tbody tr th:only-of-type {\n",
              "        vertical-align: middle;\n",
              "    }\n",
              "\n",
              "    .dataframe tbody tr th {\n",
              "        vertical-align: top;\n",
              "    }\n",
              "\n",
              "    .dataframe thead th {\n",
              "        text-align: right;\n",
              "    }\n",
              "</style>\n",
              "<table border=\"1\" class=\"dataframe\">\n",
              "  <thead>\n",
              "    <tr style=\"text-align: right;\">\n",
              "      <th></th>\n",
              "      <th>file_id</th>\n",
              "      <th>accent</th>\n",
              "    </tr>\n",
              "  </thead>\n",
              "  <tbody>\n",
              "    <tr>\n",
              "      <th>2488</th>\n",
              "      <td>./12488.png</td>\n",
              "      <td>1</td>\n",
              "    </tr>\n",
              "    <tr>\n",
              "      <th>1570</th>\n",
              "      <td>./11570.png</td>\n",
              "      <td>0</td>\n",
              "    </tr>\n",
              "    <tr>\n",
              "      <th>1411</th>\n",
              "      <td>./11411.png</td>\n",
              "      <td>0</td>\n",
              "    </tr>\n",
              "    <tr>\n",
              "      <th>3069</th>\n",
              "      <td>./13069.png</td>\n",
              "      <td>1</td>\n",
              "    </tr>\n",
              "    <tr>\n",
              "      <th>4376</th>\n",
              "      <td>./14376.png</td>\n",
              "      <td>0</td>\n",
              "    </tr>\n",
              "  </tbody>\n",
              "</table>\n",
              "</div>"
            ],
            "text/plain": [
              "          file_id accent\n",
              "2488  ./12488.png      1\n",
              "1570  ./11570.png      0\n",
              "1411  ./11411.png      0\n",
              "3069  ./13069.png      1\n",
              "4376  ./14376.png      0"
            ]
          },
          "metadata": {
            "tags": []
          },
          "execution_count": 12
        }
      ]
    },
    {
      "cell_type": "markdown",
      "metadata": {
        "id": "w19Gi3JK63Tp",
        "colab_type": "text"
      },
      "source": [
        "Lets sort the dataframes so that the ImageGenerator can correctly map the classes."
      ]
    },
    {
      "cell_type": "code",
      "metadata": {
        "id": "DnZrJyga7B7I",
        "colab_type": "code",
        "outputId": "192dd9f1-661c-44e3-bb93-449927addfca",
        "colab": {
          "base_uri": "https://localhost:8080/",
          "height": 289
        }
      },
      "source": [
        "train.sort_values(by=[\"accent\"],inplace=True)\n",
        "train.head()"
      ],
      "execution_count": 0,
      "outputs": [
        {
          "output_type": "stream",
          "text": [
            "/usr/local/lib/python3.6/dist-packages/ipykernel_launcher.py:1: SettingWithCopyWarning: \n",
            "A value is trying to be set on a copy of a slice from a DataFrame\n",
            "\n",
            "See the caveats in the documentation: http://pandas.pydata.org/pandas-docs/stable/indexing.html#indexing-view-versus-copy\n",
            "  \"\"\"Entry point for launching an IPython kernel.\n"
          ],
          "name": "stderr"
        },
        {
          "output_type": "execute_result",
          "data": {
            "text/html": [
              "<div>\n",
              "<style scoped>\n",
              "    .dataframe tbody tr th:only-of-type {\n",
              "        vertical-align: middle;\n",
              "    }\n",
              "\n",
              "    .dataframe tbody tr th {\n",
              "        vertical-align: top;\n",
              "    }\n",
              "\n",
              "    .dataframe thead th {\n",
              "        text-align: right;\n",
              "    }\n",
              "</style>\n",
              "<table border=\"1\" class=\"dataframe\">\n",
              "  <thead>\n",
              "    <tr style=\"text-align: right;\">\n",
              "      <th></th>\n",
              "      <th>file_id</th>\n",
              "      <th>accent</th>\n",
              "    </tr>\n",
              "  </thead>\n",
              "  <tbody>\n",
              "    <tr>\n",
              "      <th>1430</th>\n",
              "      <td>./11430.png</td>\n",
              "      <td>0</td>\n",
              "    </tr>\n",
              "    <tr>\n",
              "      <th>2511</th>\n",
              "      <td>./12511.png</td>\n",
              "      <td>0</td>\n",
              "    </tr>\n",
              "    <tr>\n",
              "      <th>3047</th>\n",
              "      <td>./13047.png</td>\n",
              "      <td>0</td>\n",
              "    </tr>\n",
              "    <tr>\n",
              "      <th>3002</th>\n",
              "      <td>./13002.png</td>\n",
              "      <td>0</td>\n",
              "    </tr>\n",
              "    <tr>\n",
              "      <th>4151</th>\n",
              "      <td>./14151.png</td>\n",
              "      <td>0</td>\n",
              "    </tr>\n",
              "  </tbody>\n",
              "</table>\n",
              "</div>"
            ],
            "text/plain": [
              "          file_id accent\n",
              "1430  ./11430.png      0\n",
              "2511  ./12511.png      0\n",
              "3047  ./13047.png      0\n",
              "3002  ./13002.png      0\n",
              "4151  ./14151.png      0"
            ]
          },
          "metadata": {
            "tags": []
          },
          "execution_count": 13
        }
      ]
    },
    {
      "cell_type": "code",
      "metadata": {
        "id": "lGHyZx2d8DbH",
        "colab_type": "code",
        "outputId": "e7a0c1a3-5e1a-450e-8c32-24ca857070b4",
        "colab": {
          "base_uri": "https://localhost:8080/",
          "height": 289
        }
      },
      "source": [
        "val.sort_values(by=[\"accent\"],inplace=True)\n",
        "val.head()"
      ],
      "execution_count": 0,
      "outputs": [
        {
          "output_type": "stream",
          "text": [
            "/usr/local/lib/python3.6/dist-packages/ipykernel_launcher.py:1: SettingWithCopyWarning: \n",
            "A value is trying to be set on a copy of a slice from a DataFrame\n",
            "\n",
            "See the caveats in the documentation: http://pandas.pydata.org/pandas-docs/stable/indexing.html#indexing-view-versus-copy\n",
            "  \"\"\"Entry point for launching an IPython kernel.\n"
          ],
          "name": "stderr"
        },
        {
          "output_type": "execute_result",
          "data": {
            "text/html": [
              "<div>\n",
              "<style scoped>\n",
              "    .dataframe tbody tr th:only-of-type {\n",
              "        vertical-align: middle;\n",
              "    }\n",
              "\n",
              "    .dataframe tbody tr th {\n",
              "        vertical-align: top;\n",
              "    }\n",
              "\n",
              "    .dataframe thead th {\n",
              "        text-align: right;\n",
              "    }\n",
              "</style>\n",
              "<table border=\"1\" class=\"dataframe\">\n",
              "  <thead>\n",
              "    <tr style=\"text-align: right;\">\n",
              "      <th></th>\n",
              "      <th>file_id</th>\n",
              "      <th>accent</th>\n",
              "    </tr>\n",
              "  </thead>\n",
              "  <tbody>\n",
              "    <tr>\n",
              "      <th>3242</th>\n",
              "      <td>./13242.png</td>\n",
              "      <td>0</td>\n",
              "    </tr>\n",
              "    <tr>\n",
              "      <th>1782</th>\n",
              "      <td>./11782.png</td>\n",
              "      <td>0</td>\n",
              "    </tr>\n",
              "    <tr>\n",
              "      <th>1789</th>\n",
              "      <td>./11789.png</td>\n",
              "      <td>0</td>\n",
              "    </tr>\n",
              "    <tr>\n",
              "      <th>339</th>\n",
              "      <td>./10339.png</td>\n",
              "      <td>0</td>\n",
              "    </tr>\n",
              "    <tr>\n",
              "      <th>789</th>\n",
              "      <td>./10789.png</td>\n",
              "      <td>0</td>\n",
              "    </tr>\n",
              "  </tbody>\n",
              "</table>\n",
              "</div>"
            ],
            "text/plain": [
              "          file_id accent\n",
              "3242  ./13242.png      0\n",
              "1782  ./11782.png      0\n",
              "1789  ./11789.png      0\n",
              "339   ./10339.png      0\n",
              "789   ./10789.png      0"
            ]
          },
          "metadata": {
            "tags": []
          },
          "execution_count": 14
        }
      ]
    },
    {
      "cell_type": "markdown",
      "metadata": {
        "id": "VPV9WwbHROlK",
        "colab_type": "text"
      },
      "source": [
        "Let's save the two generated dataframes for posterior analysis"
      ]
    },
    {
      "cell_type": "code",
      "metadata": {
        "id": "mTenbcSxRpCZ",
        "colab_type": "code",
        "outputId": "01b04db2-3b17-406f-9d73-5b944fa2104f",
        "colab": {
          "base_uri": "https://localhost:8080/",
          "height": 51
        }
      },
      "source": [
        "train_split_file= \"train_split.csv\".format(OUTPUT_FOLDER,NBV)\n",
        "val_split_file= \"validation_split.csv\".format(OUTPUT_FOLDER,NBV)\n",
        "\n",
        "print(f\"Saving train split file to {train_split_file}\")\n",
        "train.to_csv(train_split_file,header = True,index = False)\n",
        "\n",
        "print(f\"Saving validation split file to {val_split_file}\")\n",
        "val.to_csv(val_split_file,header=True, index = False)\n"
      ],
      "execution_count": 0,
      "outputs": [
        {
          "output_type": "stream",
          "text": [
            "Saving train split file to /content/drive/My Drive/Accent_Detection_Out/train_split_ResNet_V1.csv\n",
            "Saving validation split file to /content/drive/My Drive/Accent_Detection_Out/validation_split_ResNet_V1.csv\n"
          ],
          "name": "stdout"
        }
      ]
    },
    {
      "cell_type": "markdown",
      "metadata": {
        "id": "5sXNPoIMVnlA",
        "colab_type": "text"
      },
      "source": [
        "As a sanity check, lets observe the distrobution of the labels after the split"
      ]
    },
    {
      "cell_type": "code",
      "metadata": {
        "id": "i6gEFb1XV00W",
        "colab_type": "code",
        "outputId": "d5b29fbf-c674-4f1b-a91b-06fed2ff16c2",
        "colab": {
          "base_uri": "https://localhost:8080/",
          "height": 623
        }
      },
      "source": [
        "filter_canada = labels['accent'] == \"0\"\n",
        "filter_india = labels['accent'] == \"1\"\n",
        "filter_england = labels['accent'] == \"2\"\n",
        "\n",
        "count_canada = labels.where(filter_canada).count()['accent']\n",
        "count_india = labels.where(filter_india).count()['accent']\n",
        "count_england = labels.where(filter_england).count()['accent']\n",
        "\n",
        "train_count_canada = train.where(train['accent'] == \"0\").count()['accent']\n",
        "train_count_india = train.where(train['accent'] == \"1\").count()['accent']\n",
        "train_count_england = train.where(train['accent'] == \"2\").count()['accent']\n",
        "\n",
        "cat = [\"Canada\", \"India\", \"England\"]\n",
        "count = [train_count_canada,train_count_india, train_count_england]\n",
        "plt.bar(cat,count)\n",
        "plt.show()\n",
        "\n",
        "print(f\"Train Canada count:{train_count_canada}; Percentage from original:{ train_count_canada/count_canada }\")\n",
        "print(f\"Train India count:{train_count_india}; Percentage from original:{ train_count_india/count_india }\")\n",
        "print(f\"Train India count:{train_count_england}; Percentage from original:{ train_count_england/count_england }\")\n",
        "\n",
        "val_count_canada = val.where(val['accent'] == \"0\").count()['accent']\n",
        "val_count_india = val.where(val['accent'] == \"1\").count()['accent']\n",
        "val_count_england = val.where(val['accent'] == \"2\").count()['accent']\n",
        "\n",
        "\n",
        "\n",
        "count = [val_count_canada,val_count_india,val_count_england]\n",
        "plt.bar(cat,count)\n",
        "plt.show()\n",
        "\n",
        "print(f\"Validation infected count:{val_count_canada}; Percentage from original:{ val_count_canada/count_canada }\")\n",
        "print(f\"Validation infected count:{val_count_india}; Percentage from original:{ val_count_india/count_india }\")\n",
        "print(f\"Validation infected count:{val_count_england}; Percentage from original:{ val_count_england/count_england }\")"
      ],
      "execution_count": 0,
      "outputs": [
        {
          "output_type": "display_data",
          "data": {
            "image/png": "[encoded data removed]",
            "text/plain": [
              "<Figure size 432x288 with 1 Axes>"
            ]
          },
          "metadata": {
            "tags": []
          }
        },
        {
          "output_type": "stream",
          "text": [
            "Train Canada count:1125; Percentage from original:0.75\n",
            "Train India count:1125; Percentage from original:0.75\n",
            "Train India count:1125; Percentage from original:0.75\n"
          ],
          "name": "stdout"
        },
        {
          "output_type": "display_data",
          "data": {
            "image/png": "[encoded data removed]",
            "text/plain": [
              "<Figure size 432x288 with 1 Axes>"
            ]
          },
          "metadata": {
            "tags": []
          }
        },
        {
          "output_type": "stream",
          "text": [
            "Validation infected count:375; Percentage from original:0.25\n",
            "Validation infected count:375; Percentage from original:0.25\n",
            "Validation infected count:375; Percentage from original:0.25\n"
          ],
          "name": "stdout"
        }
      ]
    },
    {
      "cell_type": "markdown",
      "metadata": {
        "id": "A8XTtEU4aYc-",
        "colab_type": "text"
      },
      "source": [
        "Finally, lets prepare the images to be streamed during training."
      ]
    },
    {
      "cell_type": "code",
      "metadata": {
        "id": "byRARZ0I8BE-",
        "colab_type": "code",
        "outputId": "853e5f89-ba13-4cac-efc3-91841d866ca3",
        "colab": {
          "base_uri": "https://localhost:8080/",
          "height": 51
        }
      },
      "source": [
        "train_datagen = ImageDataGenerator(\n",
        "        rescale=1./255,\n",
        "        #rotation_range= 360,\n",
        "        #shear_range=0.1,\n",
        "        #zoom_range=0.1,\n",
        "        vertical_flip=True,\n",
        "        horizontal_flip=True,\n",
        "        brightness_range =[0.8,1.2])\n",
        "\n",
        "validation_datagen= ImageDataGenerator(rescale=1./255)\n",
        "\n",
        "\n",
        "train_generator = train_datagen.flow_from_dataframe(train, \n",
        "                                                    directory=TRAINING_PATH, \n",
        "                                                    x_col='file_id', \n",
        "                                                    y_col='accent', \n",
        "                                                    target_size=(img_height, img_width), \n",
        "                                                    color_mode='grayscale', \n",
        "                                                    classes=[\"0\",\"1\",\"2\"], \n",
        "                                                    class_mode='categorical', \n",
        "                                                    batch_size=BATCH_SIZE, \n",
        "                                                    shuffle=True,  \n",
        "                                                    save_to_dir=None)\n",
        "    \n",
        "validation_generator = validation_datagen.flow_from_dataframe(val, \n",
        "                                                    directory=TRAINING_PATH, \n",
        "                                                    x_col='file_id', \n",
        "                                                    y_col='accent', \n",
        "                                                    target_size=(img_height, img_width), \n",
        "                                                    color_mode='grayscale', \n",
        "                                                    classes=[\"0\",\"1\",\"2\"], \n",
        "                                                    class_mode='categorical', \n",
        "                                                    batch_size=BATCH_SIZE, \n",
        "                                                    shuffle=True,  \n",
        "                                                    save_to_dir=None)"
      ],
      "execution_count": 0,
      "outputs": [
        {
          "output_type": "stream",
          "text": [
            "Found 3375 validated image filenames belonging to 3 classes.\n",
            "Found 1125 validated image filenames belonging to 3 classes.\n"
          ],
          "name": "stdout"
        }
      ]
    },
    {
      "cell_type": "code",
      "metadata": {
        "id": "3JQVQ9BW3uBT",
        "colab_type": "code",
        "outputId": "74035f57-dbe4-407b-e5cb-ffe56c7df1c4",
        "colab": {
          "base_uri": "https://localhost:8080/",
          "height": 51
        }
      },
      "source": [
        "print(train_generator.class_indices)\n",
        "print(validation_generator.class_indices)"
      ],
      "execution_count": 0,
      "outputs": [
        {
          "output_type": "stream",
          "text": [
            "{'0': 0, '1': 1, '2': 2}\n",
            "{'0': 0, '1': 1, '2': 2}\n"
          ],
          "name": "stdout"
        }
      ]
    },
    {
      "cell_type": "code",
      "metadata": {
        "id": "WpR_lVWOZLXH",
        "colab_type": "code",
        "outputId": "8bc9aaea-8c92-4a87-d14e-83db2e8edcd3",
        "colab": {
          "base_uri": "https://localhost:8080/",
          "height": 286
        }
      },
      "source": [
        "from skimage import io\n",
        "import matplotlib.pyplot as plt\n",
        "\n",
        "my_image = io.imread('/content/accent_detection/train/10000.png', as_gray=True)\n",
        "\n",
        "# look at the image\n",
        "plt.imshow(my_image)"
      ],
      "execution_count": 0,
      "outputs": [
        {
          "output_type": "execute_result",
          "data": {
            "text/plain": [
              "<matplotlib.image.AxesImage at 0x7f24f453c630>"
            ]
          },
          "metadata": {
            "tags": []
          },
          "execution_count": 19
        },
        {
          "output_type": "display_data",
          "data": {
            "image/png": "[encoded data removed]",
            "text/plain": [
              "<Figure size 432x288 with 1 Axes>"
            ]
          },
          "metadata": {
            "tags": []
          }
        }
      ]
    },
    {
      "cell_type": "markdown",
      "metadata": {
        "id": "fllA71qSalgC",
        "colab_type": "text"
      },
      "source": [
        "# Build the model"
      ]
    },
    {
      "cell_type": "code",
      "metadata": {
        "id": "Z2XxyzSt8LiO",
        "colab_type": "code",
        "outputId": "5595cbf0-90e6-4a2c-ee59-dcd5c5d16ea9",
        "colab": {
          "base_uri": "https://localhost:8080/",
          "height": 1000
        }
      },
      "source": [
        "if RETRAIN:\n",
        "    model= load_model(f\"{OUTPUT_FOLDER}CustomNet_{NBV}_best.hdf5\")\n",
        "\n",
        "else:    \n",
        "    base_model = ResNet50(weights= None, include_top=False, input_shape= (img_height,img_width,CHANNELS))\n",
        "    x = base_model.output\n",
        "    x = GlobalAveragePooling2D()(x)\n",
        "    x = Dropout(0.70)(x)\n",
        "    predictions = Dense(NUM_CLASSES, activation= 'softmax')(x)\n",
        "    model = Model(inputs = base_model.input, outputs = predictions)\n",
        "\n",
        "\n",
        "model.compile(optimizer = 'adam', loss = OBJECTIVE_FUNCTION, metrics = LOSS_METRICS)\n",
        "\n",
        "model.summary()"
      ],
      "execution_count": 0,
      "outputs": [
        {
          "output_type": "stream",
          "text": [
            "/usr/local/lib/python3.6/dist-packages/keras_applications/resnet50.py:265: UserWarning: The output shape of `ResNet50(include_top=False)` has been changed since Keras 2.2.0.\n",
            "  warnings.warn('The output shape of `ResNet50(include_top=False)` '\n",
            "WARNING: Logging before flag parsing goes to stderr.\n",
            "W0702 22:20:14.120826 139800166623104 nn_ops.py:4220] Large dropout rate: 0.7 (>0.5). In TensorFlow 2.x, dropout() uses dropout rate instead of keep_prob. Please ensure that this is intended.\n"
          ],
          "name": "stderr"
        },
        {
          "output_type": "stream",
          "text": [
            "Model: \"model\"\n",
            "__________________________________________________________________________________________________\n",
            "Layer (type)                    Output Shape         Param #     Connected to                     \n",
            "==================================================================================================\n",
            "input_1 (InputLayer)            [(None, 128, 173, 1) 0                                            \n",
            "__________________________________________________________________________________________________\n",
            "conv1_pad (ZeroPadding2D)       (None, 134, 179, 1)  0           input_1[0][0]                    \n",
            "__________________________________________________________________________________________________\n",
            "conv1 (Conv2D)                  (None, 64, 87, 64)   3200        conv1_pad[0][0]                  \n",
            "__________________________________________________________________________________________________\n",
            "bn_conv1 (BatchNormalization)   (None, 64, 87, 64)   256         conv1[0][0]                      \n",
            "__________________________________________________________________________________________________\n",
            "activation (Activation)         (None, 64, 87, 64)   0           bn_conv1[0][0]                   \n",
            "__________________________________________________________________________________________________\n",
            "pool1_pad (ZeroPadding2D)       (None, 66, 89, 64)   0           activation[0][0]                 \n",
            "__________________________________________________________________________________________________\n",
            "max_pooling2d (MaxPooling2D)    (None, 32, 44, 64)   0           pool1_pad[0][0]                  \n",
            "__________________________________________________________________________________________________\n",
            "res2a_branch2a (Conv2D)         (None, 32, 44, 64)   4160        max_pooling2d[0][0]              \n",
            "__________________________________________________________________________________________________\n",
            "bn2a_branch2a (BatchNormalizati (None, 32, 44, 64)   256         res2a_branch2a[0][0]             \n",
            "__________________________________________________________________________________________________\n",
            "activation_1 (Activation)       (None, 32, 44, 64)   0           bn2a_branch2a[0][0]              \n",
            "__________________________________________________________________________________________________\n",
            "res2a_branch2b (Conv2D)         (None, 32, 44, 64)   36928       activation_1[0][0]               \n",
            "__________________________________________________________________________________________________\n",
            "bn2a_branch2b (BatchNormalizati (None, 32, 44, 64)   256         res2a_branch2b[0][0]             \n",
            "__________________________________________________________________________________________________\n",
            "activation_2 (Activation)       (None, 32, 44, 64)   0           bn2a_branch2b[0][0]              \n",
            "__________________________________________________________________________________________________\n",
            "res2a_branch2c (Conv2D)         (None, 32, 44, 256)  16640       activation_2[0][0]               \n",
            "__________________________________________________________________________________________________\n",
            "res2a_branch1 (Conv2D)          (None, 32, 44, 256)  16640       max_pooling2d[0][0]              \n",
            "__________________________________________________________________________________________________\n",
            "bn2a_branch2c (BatchNormalizati (None, 32, 44, 256)  1024        res2a_branch2c[0][0]             \n",
            "__________________________________________________________________________________________________\n",
            "bn2a_branch1 (BatchNormalizatio (None, 32, 44, 256)  1024        res2a_branch1[0][0]              \n",
            "__________________________________________________________________________________________________\n",
            "add (Add)                       (None, 32, 44, 256)  0           bn2a_branch2c[0][0]              \n",
            "                                                                 bn2a_branch1[0][0]               \n",
            "__________________________________________________________________________________________________\n",
            "activation_3 (Activation)       (None, 32, 44, 256)  0           add[0][0]                        \n",
            "__________________________________________________________________________________________________\n",
            "res2b_branch2a (Conv2D)         (None, 32, 44, 64)   16448       activation_3[0][0]               \n",
            "__________________________________________________________________________________________________\n",
            "bn2b_branch2a (BatchNormalizati (None, 32, 44, 64)   256         res2b_branch2a[0][0]             \n",
            "__________________________________________________________________________________________________\n",
            "activation_4 (Activation)       (None, 32, 44, 64)   0           bn2b_branch2a[0][0]              \n",
            "__________________________________________________________________________________________________\n",
            "res2b_branch2b (Conv2D)         (None, 32, 44, 64)   36928       activation_4[0][0]               \n",
            "__________________________________________________________________________________________________\n",
            "bn2b_branch2b (BatchNormalizati (None, 32, 44, 64)   256         res2b_branch2b[0][0]             \n",
            "__________________________________________________________________________________________________\n",
            "activation_5 (Activation)       (None, 32, 44, 64)   0           bn2b_branch2b[0][0]              \n",
            "__________________________________________________________________________________________________\n",
            "res2b_branch2c (Conv2D)         (None, 32, 44, 256)  16640       activation_5[0][0]               \n",
            "__________________________________________________________________________________________________\n",
            "bn2b_branch2c (BatchNormalizati (None, 32, 44, 256)  1024        res2b_branch2c[0][0]             \n",
            "__________________________________________________________________________________________________\n",
            "add_1 (Add)                     (None, 32, 44, 256)  0           bn2b_branch2c[0][0]              \n",
            "                                                                 activation_3[0][0]               \n",
            "__________________________________________________________________________________________________\n",
            "activation_6 (Activation)       (None, 32, 44, 256)  0           add_1[0][0]                      \n",
            "__________________________________________________________________________________________________\n",
            "res2c_branch2a (Conv2D)         (None, 32, 44, 64)   16448       activation_6[0][0]               \n",
            "__________________________________________________________________________________________________\n",
            "bn2c_branch2a (BatchNormalizati (None, 32, 44, 64)   256         res2c_branch2a[0][0]             \n",
            "__________________________________________________________________________________________________\n",
            "activation_7 (Activation)       (None, 32, 44, 64)   0           bn2c_branch2a[0][0]              \n",
            "__________________________________________________________________________________________________\n",
            "res2c_branch2b (Conv2D)         (None, 32, 44, 64)   36928       activation_7[0][0]               \n",
            "__________________________________________________________________________________________________\n",
            "bn2c_branch2b (BatchNormalizati (None, 32, 44, 64)   256         res2c_branch2b[0][0]             \n",
            "__________________________________________________________________________________________________\n",
            "activation_8 (Activation)       (None, 32, 44, 64)   0           bn2c_branch2b[0][0]              \n",
            "__________________________________________________________________________________________________\n",
            "res2c_branch2c (Conv2D)         (None, 32, 44, 256)  16640       activation_8[0][0]               \n",
            "__________________________________________________________________________________________________\n",
            "bn2c_branch2c (BatchNormalizati (None, 32, 44, 256)  1024        res2c_branch2c[0][0]             \n",
            "__________________________________________________________________________________________________\n",
            "add_2 (Add)                     (None, 32, 44, 256)  0           bn2c_branch2c[0][0]              \n",
            "                                                                 activation_6[0][0]               \n",
            "__________________________________________________________________________________________________\n",
            "activation_9 (Activation)       (None, 32, 44, 256)  0           add_2[0][0]                      \n",
            "__________________________________________________________________________________________________\n",
            "res3a_branch2a (Conv2D)         (None, 16, 22, 128)  32896       activation_9[0][0]               \n",
            "__________________________________________________________________________________________________\n",
            "bn3a_branch2a (BatchNormalizati (None, 16, 22, 128)  512         res3a_branch2a[0][0]             \n",
            "__________________________________________________________________________________________________\n",
            "activation_10 (Activation)      (None, 16, 22, 128)  0           bn3a_branch2a[0][0]              \n",
            "__________________________________________________________________________________________________\n",
            "res3a_branch2b (Conv2D)         (None, 16, 22, 128)  147584      activation_10[0][0]              \n",
            "__________________________________________________________________________________________________\n",
            "bn3a_branch2b (BatchNormalizati (None, 16, 22, 128)  512         res3a_branch2b[0][0]             \n",
            "__________________________________________________________________________________________________\n",
            "activation_11 (Activation)      (None, 16, 22, 128)  0           bn3a_branch2b[0][0]              \n",
            "__________________________________________________________________________________________________\n",
            "res3a_branch2c (Conv2D)         (None, 16, 22, 512)  66048       activation_11[0][0]              \n",
            "__________________________________________________________________________________________________\n",
            "res3a_branch1 (Conv2D)          (None, 16, 22, 512)  131584      activation_9[0][0]               \n",
            "__________________________________________________________________________________________________\n",
            "bn3a_branch2c (BatchNormalizati (None, 16, 22, 512)  2048        res3a_branch2c[0][0]             \n",
            "__________________________________________________________________________________________________\n",
            "bn3a_branch1 (BatchNormalizatio (None, 16, 22, 512)  2048        res3a_branch1[0][0]              \n",
            "__________________________________________________________________________________________________\n",
            "add_3 (Add)                     (None, 16, 22, 512)  0           bn3a_branch2c[0][0]              \n",
            "                                                                 bn3a_branch1[0][0]               \n",
            "__________________________________________________________________________________________________\n",
            "activation_12 (Activation)      (None, 16, 22, 512)  0           add_3[0][0]                      \n",
            "__________________________________________________________________________________________________\n",
            "res3b_branch2a (Conv2D)         (None, 16, 22, 128)  65664       activation_12[0][0]              \n",
            "__________________________________________________________________________________________________\n",
            "bn3b_branch2a (BatchNormalizati (None, 16, 22, 128)  512         res3b_branch2a[0][0]             \n",
            "__________________________________________________________________________________________________\n",
            "activation_13 (Activation)      (None, 16, 22, 128)  0           bn3b_branch2a[0][0]              \n",
            "__________________________________________________________________________________________________\n",
            "res3b_branch2b (Conv2D)         (None, 16, 22, 128)  147584      activation_13[0][0]              \n",
            "__________________________________________________________________________________________________\n",
            "bn3b_branch2b (BatchNormalizati (None, 16, 22, 128)  512         res3b_branch2b[0][0]             \n",
            "__________________________________________________________________________________________________\n",
            "activation_14 (Activation)      (None, 16, 22, 128)  0           bn3b_branch2b[0][0]              \n",
            "__________________________________________________________________________________________________\n",
            "res3b_branch2c (Conv2D)         (None, 16, 22, 512)  66048       activation_14[0][0]              \n",
            "__________________________________________________________________________________________________\n",
            "bn3b_branch2c (BatchNormalizati (None, 16, 22, 512)  2048        res3b_branch2c[0][0]             \n",
            "__________________________________________________________________________________________________\n",
            "add_4 (Add)                     (None, 16, 22, 512)  0           bn3b_branch2c[0][0]              \n",
            "                                                                 activation_12[0][0]              \n",
            "__________________________________________________________________________________________________\n",
            "activation_15 (Activation)      (None, 16, 22, 512)  0           add_4[0][0]                      \n",
            "__________________________________________________________________________________________________\n",
            "res3c_branch2a (Conv2D)         (None, 16, 22, 128)  65664       activation_15[0][0]              \n",
            "__________________________________________________________________________________________________\n",
            "bn3c_branch2a (BatchNormalizati (None, 16, 22, 128)  512         res3c_branch2a[0][0]             \n",
            "__________________________________________________________________________________________________\n",
            "activation_16 (Activation)      (None, 16, 22, 128)  0           bn3c_branch2a[0][0]              \n",
            "__________________________________________________________________________________________________\n",
            "res3c_branch2b (Conv2D)         (None, 16, 22, 128)  147584      activation_16[0][0]              \n",
            "__________________________________________________________________________________________________\n",
            "bn3c_branch2b (BatchNormalizati (None, 16, 22, 128)  512         res3c_branch2b[0][0]             \n",
            "__________________________________________________________________________________________________\n",
            "activation_17 (Activation)      (None, 16, 22, 128)  0           bn3c_branch2b[0][0]              \n",
            "__________________________________________________________________________________________________\n",
            "res3c_branch2c (Conv2D)         (None, 16, 22, 512)  66048       activation_17[0][0]              \n",
            "__________________________________________________________________________________________________\n",
            "bn3c_branch2c (BatchNormalizati (None, 16, 22, 512)  2048        res3c_branch2c[0][0]             \n",
            "__________________________________________________________________________________________________\n",
            "add_5 (Add)                     (None, 16, 22, 512)  0           bn3c_branch2c[0][0]              \n",
            "                                                                 activation_15[0][0]              \n",
            "__________________________________________________________________________________________________\n",
            "activation_18 (Activation)      (None, 16, 22, 512)  0           add_5[0][0]                      \n",
            "__________________________________________________________________________________________________\n",
            "res3d_branch2a (Conv2D)         (None, 16, 22, 128)  65664       activation_18[0][0]              \n",
            "__________________________________________________________________________________________________\n",
            "bn3d_branch2a (BatchNormalizati (None, 16, 22, 128)  512         res3d_branch2a[0][0]             \n",
            "__________________________________________________________________________________________________\n",
            "activation_19 (Activation)      (None, 16, 22, 128)  0           bn3d_branch2a[0][0]              \n",
            "__________________________________________________________________________________________________\n",
            "res3d_branch2b (Conv2D)         (None, 16, 22, 128)  147584      activation_19[0][0]              \n",
            "__________________________________________________________________________________________________\n",
            "bn3d_branch2b (BatchNormalizati (None, 16, 22, 128)  512         res3d_branch2b[0][0]             \n",
            "__________________________________________________________________________________________________\n",
            "activation_20 (Activation)      (None, 16, 22, 128)  0           bn3d_branch2b[0][0]              \n",
            "__________________________________________________________________________________________________\n",
            "res3d_branch2c (Conv2D)         (None, 16, 22, 512)  66048       activation_20[0][0]              \n",
            "__________________________________________________________________________________________________\n",
            "bn3d_branch2c (BatchNormalizati (None, 16, 22, 512)  2048        res3d_branch2c[0][0]             \n",
            "__________________________________________________________________________________________________\n",
            "add_6 (Add)                     (None, 16, 22, 512)  0           bn3d_branch2c[0][0]              \n",
            "                                                                 activation_18[0][0]              \n",
            "__________________________________________________________________________________________________\n",
            "activation_21 (Activation)      (None, 16, 22, 512)  0           add_6[0][0]                      \n",
            "__________________________________________________________________________________________________\n",
            "res4a_branch2a (Conv2D)         (None, 8, 11, 256)   131328      activation_21[0][0]              \n",
            "__________________________________________________________________________________________________\n",
            "bn4a_branch2a (BatchNormalizati (None, 8, 11, 256)   1024        res4a_branch2a[0][0]             \n",
            "__________________________________________________________________________________________________\n",
            "activation_22 (Activation)      (None, 8, 11, 256)   0           bn4a_branch2a[0][0]              \n",
            "__________________________________________________________________________________________________\n",
            "res4a_branch2b (Conv2D)         (None, 8, 11, 256)   590080      activation_22[0][0]              \n",
            "__________________________________________________________________________________________________\n",
            "bn4a_branch2b (BatchNormalizati (None, 8, 11, 256)   1024        res4a_branch2b[0][0]             \n",
            "__________________________________________________________________________________________________\n",
            "activation_23 (Activation)      (None, 8, 11, 256)   0           bn4a_branch2b[0][0]              \n",
            "__________________________________________________________________________________________________\n",
            "res4a_branch2c (Conv2D)         (None, 8, 11, 1024)  263168      activation_23[0][0]              \n",
            "__________________________________________________________________________________________________\n",
            "res4a_branch1 (Conv2D)          (None, 8, 11, 1024)  525312      activation_21[0][0]              \n",
            "__________________________________________________________________________________________________\n",
            "bn4a_branch2c (BatchNormalizati (None, 8, 11, 1024)  4096        res4a_branch2c[0][0]             \n",
            "__________________________________________________________________________________________________\n",
            "bn4a_branch1 (BatchNormalizatio (None, 8, 11, 1024)  4096        res4a_branch1[0][0]              \n",
            "__________________________________________________________________________________________________\n",
            "add_7 (Add)                     (None, 8, 11, 1024)  0           bn4a_branch2c[0][0]              \n",
            "                                                                 bn4a_branch1[0][0]               \n",
            "__________________________________________________________________________________________________\n",
            "activation_24 (Activation)      (None, 8, 11, 1024)  0           add_7[0][0]                      \n",
            "__________________________________________________________________________________________________\n",
            "res4b_branch2a (Conv2D)         (None, 8, 11, 256)   262400      activation_24[0][0]              \n",
            "__________________________________________________________________________________________________\n",
            "bn4b_branch2a (BatchNormalizati (None, 8, 11, 256)   1024        res4b_branch2a[0][0]             \n",
            "__________________________________________________________________________________________________\n",
            "activation_25 (Activation)      (None, 8, 11, 256)   0           bn4b_branch2a[0][0]              \n",
            "__________________________________________________________________________________________________\n",
            "res4b_branch2b (Conv2D)         (None, 8, 11, 256)   590080      activation_25[0][0]              \n",
            "__________________________________________________________________________________________________\n",
            "bn4b_branch2b (BatchNormalizati (None, 8, 11, 256)   1024        res4b_branch2b[0][0]             \n",
            "__________________________________________________________________________________________________\n",
            "activation_26 (Activation)      (None, 8, 11, 256)   0           bn4b_branch2b[0][0]              \n",
            "__________________________________________________________________________________________________\n",
            "res4b_branch2c (Conv2D)         (None, 8, 11, 1024)  263168      activation_26[0][0]              \n",
            "__________________________________________________________________________________________________\n",
            "bn4b_branch2c (BatchNormalizati (None, 8, 11, 1024)  4096        res4b_branch2c[0][0]             \n",
            "__________________________________________________________________________________________________\n",
            "add_8 (Add)                     (None, 8, 11, 1024)  0           bn4b_branch2c[0][0]              \n",
            "                                                                 activation_24[0][0]              \n",
            "__________________________________________________________________________________________________\n",
            "activation_27 (Activation)      (None, 8, 11, 1024)  0           add_8[0][0]                      \n",
            "__________________________________________________________________________________________________\n",
            "res4c_branch2a (Conv2D)         (None, 8, 11, 256)   262400      activation_27[0][0]              \n",
            "__________________________________________________________________________________________________\n",
            "bn4c_branch2a (BatchNormalizati (None, 8, 11, 256)   1024        res4c_branch2a[0][0]             \n",
            "__________________________________________________________________________________________________\n",
            "activation_28 (Activation)      (None, 8, 11, 256)   0           bn4c_branch2a[0][0]              \n",
            "__________________________________________________________________________________________________\n",
            "res4c_branch2b (Conv2D)         (None, 8, 11, 256)   590080      activation_28[0][0]              \n",
            "__________________________________________________________________________________________________\n",
            "bn4c_branch2b (BatchNormalizati (None, 8, 11, 256)   1024        res4c_branch2b[0][0]             \n",
            "__________________________________________________________________________________________________\n",
            "activation_29 (Activation)      (None, 8, 11, 256)   0           bn4c_branch2b[0][0]              \n",
            "__________________________________________________________________________________________________\n",
            "res4c_branch2c (Conv2D)         (None, 8, 11, 1024)  263168      activation_29[0][0]              \n",
            "__________________________________________________________________________________________________\n",
            "bn4c_branch2c (BatchNormalizati (None, 8, 11, 1024)  4096        res4c_branch2c[0][0]             \n",
            "__________________________________________________________________________________________________\n",
            "add_9 (Add)                     (None, 8, 11, 1024)  0           bn4c_branch2c[0][0]              \n",
            "                                                                 activation_27[0][0]              \n",
            "__________________________________________________________________________________________________\n",
            "activation_30 (Activation)      (None, 8, 11, 1024)  0           add_9[0][0]                      \n",
            "__________________________________________________________________________________________________\n",
            "res4d_branch2a (Conv2D)         (None, 8, 11, 256)   262400      activation_30[0][0]              \n",
            "__________________________________________________________________________________________________\n",
            "bn4d_branch2a (BatchNormalizati (None, 8, 11, 256)   1024        res4d_branch2a[0][0]             \n",
            "__________________________________________________________________________________________________\n",
            "activation_31 (Activation)      (None, 8, 11, 256)   0           bn4d_branch2a[0][0]              \n",
            "__________________________________________________________________________________________________\n",
            "res4d_branch2b (Conv2D)         (None, 8, 11, 256)   590080      activation_31[0][0]              \n",
            "__________________________________________________________________________________________________\n",
            "bn4d_branch2b (BatchNormalizati (None, 8, 11, 256)   1024        res4d_branch2b[0][0]             \n",
            "__________________________________________________________________________________________________\n",
            "activation_32 (Activation)      (None, 8, 11, 256)   0           bn4d_branch2b[0][0]              \n",
            "__________________________________________________________________________________________________\n",
            "res4d_branch2c (Conv2D)         (None, 8, 11, 1024)  263168      activation_32[0][0]              \n",
            "__________________________________________________________________________________________________\n",
            "bn4d_branch2c (BatchNormalizati (None, 8, 11, 1024)  4096        res4d_branch2c[0][0]             \n",
            "__________________________________________________________________________________________________\n",
            "add_10 (Add)                    (None, 8, 11, 1024)  0           bn4d_branch2c[0][0]              \n",
            "                                                                 activation_30[0][0]              \n",
            "__________________________________________________________________________________________________\n",
            "activation_33 (Activation)      (None, 8, 11, 1024)  0           add_10[0][0]                     \n",
            "__________________________________________________________________________________________________\n",
            "res4e_branch2a (Conv2D)         (None, 8, 11, 256)   262400      activation_33[0][0]              \n",
            "__________________________________________________________________________________________________\n",
            "bn4e_branch2a (BatchNormalizati (None, 8, 11, 256)   1024        res4e_branch2a[0][0]             \n",
            "__________________________________________________________________________________________________\n",
            "activation_34 (Activation)      (None, 8, 11, 256)   0           bn4e_branch2a[0][0]              \n",
            "__________________________________________________________________________________________________\n",
            "res4e_branch2b (Conv2D)         (None, 8, 11, 256)   590080      activation_34[0][0]              \n",
            "__________________________________________________________________________________________________\n",
            "bn4e_branch2b (BatchNormalizati (None, 8, 11, 256)   1024        res4e_branch2b[0][0]             \n",
            "__________________________________________________________________________________________________\n",
            "activation_35 (Activation)      (None, 8, 11, 256)   0           bn4e_branch2b[0][0]              \n",
            "__________________________________________________________________________________________________\n",
            "res4e_branch2c (Conv2D)         (None, 8, 11, 1024)  263168      activation_35[0][0]              \n",
            "__________________________________________________________________________________________________\n",
            "bn4e_branch2c (BatchNormalizati (None, 8, 11, 1024)  4096        res4e_branch2c[0][0]             \n",
            "__________________________________________________________________________________________________\n",
            "add_11 (Add)                    (None, 8, 11, 1024)  0           bn4e_branch2c[0][0]              \n",
            "                                                                 activation_33[0][0]              \n",
            "__________________________________________________________________________________________________\n",
            "activation_36 (Activation)      (None, 8, 11, 1024)  0           add_11[0][0]                     \n",
            "__________________________________________________________________________________________________\n",
            "res4f_branch2a (Conv2D)         (None, 8, 11, 256)   262400      activation_36[0][0]              \n",
            "__________________________________________________________________________________________________\n",
            "bn4f_branch2a (BatchNormalizati (None, 8, 11, 256)   1024        res4f_branch2a[0][0]             \n",
            "__________________________________________________________________________________________________\n",
            "activation_37 (Activation)      (None, 8, 11, 256)   0           bn4f_branch2a[0][0]              \n",
            "__________________________________________________________________________________________________\n",
            "res4f_branch2b (Conv2D)         (None, 8, 11, 256)   590080      activation_37[0][0]              \n",
            "__________________________________________________________________________________________________\n",
            "bn4f_branch2b (BatchNormalizati (None, 8, 11, 256)   1024        res4f_branch2b[0][0]             \n",
            "__________________________________________________________________________________________________\n",
            "activation_38 (Activation)      (None, 8, 11, 256)   0           bn4f_branch2b[0][0]              \n",
            "__________________________________________________________________________________________________\n",
            "res4f_branch2c (Conv2D)         (None, 8, 11, 1024)  263168      activation_38[0][0]              \n",
            "__________________________________________________________________________________________________\n",
            "bn4f_branch2c (BatchNormalizati (None, 8, 11, 1024)  4096        res4f_branch2c[0][0]             \n",
            "__________________________________________________________________________________________________\n",
            "add_12 (Add)                    (None, 8, 11, 1024)  0           bn4f_branch2c[0][0]              \n",
            "                                                                 activation_36[0][0]              \n",
            "__________________________________________________________________________________________________\n",
            "activation_39 (Activation)      (None, 8, 11, 1024)  0           add_12[0][0]                     \n",
            "__________________________________________________________________________________________________\n",
            "res5a_branch2a (Conv2D)         (None, 4, 6, 512)    524800      activation_39[0][0]              \n",
            "__________________________________________________________________________________________________\n",
            "bn5a_branch2a (BatchNormalizati (None, 4, 6, 512)    2048        res5a_branch2a[0][0]             \n",
            "__________________________________________________________________________________________________\n",
            "activation_40 (Activation)      (None, 4, 6, 512)    0           bn5a_branch2a[0][0]              \n",
            "__________________________________________________________________________________________________\n",
            "res5a_branch2b (Conv2D)         (None, 4, 6, 512)    2359808     activation_40[0][0]              \n",
            "__________________________________________________________________________________________________\n",
            "bn5a_branch2b (BatchNormalizati (None, 4, 6, 512)    2048        res5a_branch2b[0][0]             \n",
            "__________________________________________________________________________________________________\n",
            "activation_41 (Activation)      (None, 4, 6, 512)    0           bn5a_branch2b[0][0]              \n",
            "__________________________________________________________________________________________________\n",
            "res5a_branch2c (Conv2D)         (None, 4, 6, 2048)   1050624     activation_41[0][0]              \n",
            "__________________________________________________________________________________________________\n",
            "res5a_branch1 (Conv2D)          (None, 4, 6, 2048)   2099200     activation_39[0][0]              \n",
            "__________________________________________________________________________________________________\n",
            "bn5a_branch2c (BatchNormalizati (None, 4, 6, 2048)   8192        res5a_branch2c[0][0]             \n",
            "__________________________________________________________________________________________________\n",
            "bn5a_branch1 (BatchNormalizatio (None, 4, 6, 2048)   8192        res5a_branch1[0][0]              \n",
            "__________________________________________________________________________________________________\n",
            "add_13 (Add)                    (None, 4, 6, 2048)   0           bn5a_branch2c[0][0]              \n",
            "                                                                 bn5a_branch1[0][0]               \n",
            "__________________________________________________________________________________________________\n",
            "activation_42 (Activation)      (None, 4, 6, 2048)   0           add_13[0][0]                     \n",
            "__________________________________________________________________________________________________\n",
            "res5b_branch2a (Conv2D)         (None, 4, 6, 512)    1049088     activation_42[0][0]              \n",
            "__________________________________________________________________________________________________\n",
            "bn5b_branch2a (BatchNormalizati (None, 4, 6, 512)    2048        res5b_branch2a[0][0]             \n",
            "__________________________________________________________________________________________________\n",
            "activation_43 (Activation)      (None, 4, 6, 512)    0           bn5b_branch2a[0][0]              \n",
            "__________________________________________________________________________________________________\n",
            "res5b_branch2b (Conv2D)         (None, 4, 6, 512)    2359808     activation_43[0][0]              \n",
            "__________________________________________________________________________________________________\n",
            "bn5b_branch2b (BatchNormalizati (None, 4, 6, 512)    2048        res5b_branch2b[0][0]             \n",
            "__________________________________________________________________________________________________\n",
            "activation_44 (Activation)      (None, 4, 6, 512)    0           bn5b_branch2b[0][0]              \n",
            "__________________________________________________________________________________________________\n",
            "res5b_branch2c (Conv2D)         (None, 4, 6, 2048)   1050624     activation_44[0][0]              \n",
            "__________________________________________________________________________________________________\n",
            "bn5b_branch2c (BatchNormalizati (None, 4, 6, 2048)   8192        res5b_branch2c[0][0]             \n",
            "__________________________________________________________________________________________________\n",
            "add_14 (Add)                    (None, 4, 6, 2048)   0           bn5b_branch2c[0][0]              \n",
            "                                                                 activation_42[0][0]              \n",
            "__________________________________________________________________________________________________\n",
            "activation_45 (Activation)      (None, 4, 6, 2048)   0           add_14[0][0]                     \n",
            "__________________________________________________________________________________________________\n",
            "res5c_branch2a (Conv2D)         (None, 4, 6, 512)    1049088     activation_45[0][0]              \n",
            "__________________________________________________________________________________________________\n",
            "bn5c_branch2a (BatchNormalizati (None, 4, 6, 512)    2048        res5c_branch2a[0][0]             \n",
            "__________________________________________________________________________________________________\n",
            "activation_46 (Activation)      (None, 4, 6, 512)    0           bn5c_branch2a[0][0]              \n",
            "__________________________________________________________________________________________________\n",
            "res5c_branch2b (Conv2D)         (None, 4, 6, 512)    2359808     activation_46[0][0]              \n",
            "__________________________________________________________________________________________________\n",
            "bn5c_branch2b (BatchNormalizati (None, 4, 6, 512)    2048        res5c_branch2b[0][0]             \n",
            "__________________________________________________________________________________________________\n",
            "activation_47 (Activation)      (None, 4, 6, 512)    0           bn5c_branch2b[0][0]              \n",
            "__________________________________________________________________________________________________\n",
            "res5c_branch2c (Conv2D)         (None, 4, 6, 2048)   1050624     activation_47[0][0]              \n",
            "__________________________________________________________________________________________________\n",
            "bn5c_branch2c (BatchNormalizati (None, 4, 6, 2048)   8192        res5c_branch2c[0][0]             \n",
            "__________________________________________________________________________________________________\n",
            "add_15 (Add)                    (None, 4, 6, 2048)   0           bn5c_branch2c[0][0]              \n",
            "                                                                 activation_45[0][0]              \n",
            "__________________________________________________________________________________________________\n",
            "activation_48 (Activation)      (None, 4, 6, 2048)   0           add_15[0][0]                     \n",
            "__________________________________________________________________________________________________\n",
            "global_average_pooling2d (Globa (None, 2048)         0           activation_48[0][0]              \n",
            "__________________________________________________________________________________________________\n",
            "dropout (Dropout)               (None, 2048)         0           global_average_pooling2d[0][0]   \n",
            "__________________________________________________________________________________________________\n",
            "dense (Dense)                   (None, 3)            6147        dropout[0][0]                    \n",
            "==================================================================================================\n",
            "Total params: 23,587,587\n",
            "Trainable params: 23,534,467\n",
            "Non-trainable params: 53,120\n",
            "__________________________________________________________________________________________________\n"
          ],
          "name": "stdout"
        }
      ]
    },
    {
      "cell_type": "markdown",
      "metadata": {
        "id": "uShgewZrbQHv",
        "colab_type": "text"
      },
      "source": [
        "# Train the model"
      ]
    },
    {
      "cell_type": "code",
      "metadata": {
        "id": "1AzCJo6l8Sg-",
        "colab_type": "code",
        "outputId": "923a18e1-5dc1-45d2-ed82-3cee30d09487",
        "colab": {
          "base_uri": "https://localhost:8080/",
          "height": 1000
        }
      },
      "source": [
        "cb_early_stopper = EarlyStopping(monitor = 'val_loss', patience = EARLY_STOP_PATIENCE)\n",
        "reduce_lr = ReduceLROnPlateau(monitor='val_loss', factor=0.2, patience=3, min_lr=0.001)\n",
        "\n",
        "if RETRAIN:\n",
        "    cb_checkpointer = ModelCheckpoint(filepath = f\"{OUTPUT_FOLDER}CustomNet_{NBV}_retrained_best.hdf5\", monitor = 'val_categorical_accuracy', save_best_only = True, mode = 'max', verbose= 1)\n",
        "   \n",
        "else:\n",
        "    cb_checkpointer = ModelCheckpoint(filepath = f\"{OUTPUT_FOLDER}CustomNet_{NBV}_best.hdf5\", monitor = 'val_categorical_accuracy', save_best_only = True, mode = 'max', verbose= 1)\n",
        "\n",
        "\n",
        "#logdir=TENSORBOARD_LOGS + \"logs/scalars/\" + datetime.now().strftime(\"%Y%m%d-%H%M%S\")\n",
        "#tensorboard_callback = tf.keras.callbacks.TensorBoard(log_dir=logdir, update_freq= 'batch', histogram_freq=1)\n",
        "#print(f\"Tensorboard folder:{logdir}\")\n",
        "\n",
        "STEPS_PER_EPOCH_TRAINING = train_generator.n // train_generator.batch_size\n",
        "STEPS_PER_EPOCH_VALIDATION = validation_generator.n // validation_generator.batch_size\n",
        "\n",
        "print(f\"STEPS_PER_EPOCH_TRAINING:{STEPS_PER_EPOCH_TRAINING}; STEPS_PER_EPOCH_VALIDATION: {STEPS_PER_EPOCH_VALIDATION}\")\n",
        "\n",
        "\n",
        "fit_history = model.fit_generator(\n",
        "        train_generator,\n",
        "        steps_per_epoch=STEPS_PER_EPOCH_TRAINING,\n",
        "        epochs = NUM_EPOCHS,\n",
        "        validation_data=validation_generator,\n",
        "        validation_steps=STEPS_PER_EPOCH_VALIDATION, #callbacks=[cb_checkpointer, cb_early_stopper,tensorboard_callback,reduce_lr\n",
        "        callbacks=[cb_checkpointer])\n",
        "\n",
        "if RETRAIN:\n",
        "    model.load_weights(f\"{OUTPUT_FOLDER}CustomNet_{NBV}_retrained_best.hdf5\")\n",
        "\n",
        "else:\n",
        "    model.load_weights(f\"{OUTPUT_FOLDER}CustomNet_{NBV}_best.hdf5\")"
      ],
      "execution_count": 0,
      "outputs": [
        {
          "output_type": "stream",
          "text": [
            "STEPS_PER_EPOCH_TRAINING:105; STEPS_PER_EPOCH_VALIDATION: 35\n",
            "Epoch 1/200\n"
          ],
          "name": "stdout"
        },
        {
          "output_type": "stream",
          "text": [
            "W0702 22:20:14.903398 139800166623104 deprecation.py:323] From /usr/local/lib/python3.6/dist-packages/tensorflow/python/ops/math_grad.py:1250: add_dispatch_support.<locals>.wrapper (from tensorflow.python.ops.array_ops) is deprecated and will be removed in a future version.\n",
            "Instructions for updating:\n",
            "Use tf.where in 2.0, which has the same broadcast rule as np.where\n"
          ],
          "name": "stderr"
        },
        {
          "output_type": "stream",
          "text": [
            "104/105 [============================>.] - ETA: 0s - loss: 1.8569 - categorical_accuracy: 0.3748\n",
            "Epoch 00001: val_categorical_accuracy improved from -inf to 0.37411, saving model to /content/drive/My Drive/Accent_Detection_Out/CustomNet_ResNet_V1_best.hdf5\n",
            "105/105 [==============================] - 80s 761ms/step - loss: 1.8505 - categorical_accuracy: 0.3763 - val_loss: 6.1566 - val_categorical_accuracy: 0.3741\n",
            "Epoch 2/200\n",
            "104/105 [============================>.] - ETA: 0s - loss: 1.6282 - categorical_accuracy: 0.3685\n",
            "Epoch 00002: val_categorical_accuracy did not improve from 0.37411\n",
            "105/105 [==============================] - 27s 255ms/step - loss: 1.6295 - categorical_accuracy: 0.3682 - val_loss: 10.7214 - val_categorical_accuracy: 0.3348\n",
            "Epoch 3/200\n",
            "104/105 [============================>.] - ETA: 0s - loss: 1.4639 - categorical_accuracy: 0.4017\n",
            "Epoch 00003: val_categorical_accuracy did not improve from 0.37411\n",
            "105/105 [==============================] - 27s 254ms/step - loss: 1.4679 - categorical_accuracy: 0.4017 - val_loss: 1.4256 - val_categorical_accuracy: 0.3321\n",
            "Epoch 4/200\n",
            "104/105 [============================>.] - ETA: 0s - loss: 1.4988 - categorical_accuracy: 0.3881\n",
            "Epoch 00004: val_categorical_accuracy did not improve from 0.37411\n",
            "105/105 [==============================] - 27s 253ms/step - loss: 1.4948 - categorical_accuracy: 0.3874 - val_loss: 10.3810 - val_categorical_accuracy: 0.3482\n",
            "Epoch 5/200\n",
            "104/105 [============================>.] - ETA: 0s - loss: 1.3908 - categorical_accuracy: 0.4072\n",
            "Epoch 00005: val_categorical_accuracy did not improve from 0.37411\n",
            "105/105 [==============================] - 26s 251ms/step - loss: 1.3892 - categorical_accuracy: 0.4065 - val_loss: 3.1992 - val_categorical_accuracy: 0.3339\n",
            "Epoch 6/200\n",
            "104/105 [============================>.] - ETA: 0s - loss: 1.4788 - categorical_accuracy: 0.3813\n",
            "Epoch 00006: val_categorical_accuracy did not improve from 0.37411\n",
            "105/105 [==============================] - 26s 251ms/step - loss: 1.4831 - categorical_accuracy: 0.3818 - val_loss: 2.4468 - val_categorical_accuracy: 0.3393\n",
            "Epoch 7/200\n",
            "104/105 [============================>.] - ETA: 0s - loss: 1.3938 - categorical_accuracy: 0.3941\n",
            "Epoch 00007: val_categorical_accuracy did not improve from 0.37411\n",
            "105/105 [==============================] - 26s 250ms/step - loss: 1.3974 - categorical_accuracy: 0.3958 - val_loss: 10.2506 - val_categorical_accuracy: 0.3366\n",
            "Epoch 8/200\n",
            "104/105 [============================>.] - ETA: 0s - loss: 1.2906 - categorical_accuracy: 0.4274\n",
            "Epoch 00008: val_categorical_accuracy improved from 0.37411 to 0.42054, saving model to /content/drive/My Drive/Accent_Detection_Out/CustomNet_ResNet_V1_best.hdf5\n",
            "105/105 [==============================] - 30s 286ms/step - loss: 1.2894 - categorical_accuracy: 0.4263 - val_loss: 1.1728 - val_categorical_accuracy: 0.4205\n",
            "Epoch 9/200\n",
            "104/105 [============================>.] - ETA: 0s - loss: 1.2753 - categorical_accuracy: 0.4530\n",
            "Epoch 00009: val_categorical_accuracy did not improve from 0.42054\n",
            "105/105 [==============================] - 27s 257ms/step - loss: 1.2729 - categorical_accuracy: 0.4535 - val_loss: 10.0747 - val_categorical_accuracy: 0.3321\n",
            "Epoch 10/200\n",
            "104/105 [============================>.] - ETA: 0s - loss: 1.2338 - categorical_accuracy: 0.4612\n",
            "Epoch 00010: val_categorical_accuracy improved from 0.42054 to 0.49732, saving model to /content/drive/My Drive/Accent_Detection_Out/CustomNet_ResNet_V1_best.hdf5\n",
            "105/105 [==============================] - 30s 289ms/step - loss: 1.2322 - categorical_accuracy: 0.4598 - val_loss: 1.4313 - val_categorical_accuracy: 0.4973\n",
            "Epoch 11/200\n",
            "104/105 [============================>.] - ETA: 0s - loss: 1.1428 - categorical_accuracy: 0.4938\n",
            "Epoch 00011: val_categorical_accuracy did not improve from 0.49732\n",
            "105/105 [==============================] - 27s 257ms/step - loss: 1.1455 - categorical_accuracy: 0.4945 - val_loss: 2.1796 - val_categorical_accuracy: 0.3268\n",
            "Epoch 12/200\n",
            "104/105 [============================>.] - ETA: 0s - loss: 1.2561 - categorical_accuracy: 0.4576\n",
            "Epoch 00012: val_categorical_accuracy did not improve from 0.49732\n",
            "105/105 [==============================] - 27s 253ms/step - loss: 1.2541 - categorical_accuracy: 0.4586 - val_loss: 1.0854 - val_categorical_accuracy: 0.3750\n",
            "Epoch 13/200\n",
            "104/105 [============================>.] - ETA: 0s - loss: 1.2717 - categorical_accuracy: 0.3978\n",
            "Epoch 00013: val_categorical_accuracy did not improve from 0.49732\n",
            "105/105 [==============================] - 26s 251ms/step - loss: 1.2714 - categorical_accuracy: 0.3987 - val_loss: 1.2721 - val_categorical_accuracy: 0.3607\n",
            "Epoch 14/200\n",
            "104/105 [============================>.] - ETA: 0s - loss: 1.2026 - categorical_accuracy: 0.4195\n",
            "Epoch 00014: val_categorical_accuracy did not improve from 0.49732\n",
            "105/105 [==============================] - 27s 253ms/step - loss: 1.2014 - categorical_accuracy: 0.4212 - val_loss: 1.5461 - val_categorical_accuracy: 0.4402\n",
            "Epoch 15/200\n",
            "104/105 [============================>.] - ETA: 0s - loss: 1.1661 - categorical_accuracy: 0.4385\n",
            "Epoch 00015: val_categorical_accuracy did not improve from 0.49732\n",
            "105/105 [==============================] - 26s 252ms/step - loss: 1.1649 - categorical_accuracy: 0.4388 - val_loss: 5.1758 - val_categorical_accuracy: 0.3634\n",
            "Epoch 16/200\n",
            "104/105 [============================>.] - ETA: 0s - loss: 1.1275 - categorical_accuracy: 0.4718\n",
            "Epoch 00016: val_categorical_accuracy improved from 0.49732 to 0.51786, saving model to /content/drive/My Drive/Accent_Detection_Out/CustomNet_ResNet_V1_best.hdf5\n",
            "105/105 [==============================] - 30s 287ms/step - loss: 1.1310 - categorical_accuracy: 0.4714 - val_loss: 0.9936 - val_categorical_accuracy: 0.5179\n",
            "Epoch 17/200\n",
            "104/105 [============================>.] - ETA: 0s - loss: 1.1327 - categorical_accuracy: 0.4645\n",
            "Epoch 00017: val_categorical_accuracy did not improve from 0.51786\n",
            "105/105 [==============================] - 27s 254ms/step - loss: 1.1334 - categorical_accuracy: 0.4642 - val_loss: 1.0081 - val_categorical_accuracy: 0.4991\n",
            "Epoch 18/200\n",
            "104/105 [============================>.] - ETA: 0s - loss: 1.0959 - categorical_accuracy: 0.4793\n",
            "Epoch 00018: val_categorical_accuracy did not improve from 0.51786\n",
            "105/105 [==============================] - 26s 250ms/step - loss: 1.0957 - categorical_accuracy: 0.4801 - val_loss: 1.0079 - val_categorical_accuracy: 0.5071\n",
            "Epoch 19/200\n",
            "104/105 [============================>.] - ETA: 0s - loss: 1.0666 - categorical_accuracy: 0.5014\n",
            "Epoch 00019: val_categorical_accuracy did not improve from 0.51786\n",
            "105/105 [==============================] - 26s 251ms/step - loss: 1.0662 - categorical_accuracy: 0.5013 - val_loss: 1.1156 - val_categorical_accuracy: 0.4500\n",
            "Epoch 20/200\n",
            "104/105 [============================>.] - ETA: 0s - loss: 1.0861 - categorical_accuracy: 0.5071\n",
            "Epoch 00020: val_categorical_accuracy improved from 0.51786 to 0.54375, saving model to /content/drive/My Drive/Accent_Detection_Out/CustomNet_ResNet_V1_best.hdf5\n",
            "105/105 [==============================] - 31s 291ms/step - loss: 1.0863 - categorical_accuracy: 0.5070 - val_loss: 0.9567 - val_categorical_accuracy: 0.5437\n",
            "Epoch 21/200\n",
            "104/105 [============================>.] - ETA: 0s - loss: 1.1155 - categorical_accuracy: 0.4872\n",
            "Epoch 00021: val_categorical_accuracy did not improve from 0.54375\n",
            "105/105 [==============================] - 27s 257ms/step - loss: 1.1175 - categorical_accuracy: 0.4864 - val_loss: 2.1811 - val_categorical_accuracy: 0.3348\n",
            "Epoch 22/200\n",
            "104/105 [============================>.] - ETA: 0s - loss: 1.0935 - categorical_accuracy: 0.4881\n",
            "Epoch 00022: val_categorical_accuracy did not improve from 0.54375\n",
            "105/105 [==============================] - 26s 250ms/step - loss: 1.0945 - categorical_accuracy: 0.4876 - val_loss: 1.7218 - val_categorical_accuracy: 0.4768\n",
            "Epoch 23/200\n",
            "104/105 [============================>.] - ETA: 0s - loss: 1.0508 - categorical_accuracy: 0.5189\n",
            "Epoch 00023: val_categorical_accuracy did not improve from 0.54375\n",
            "105/105 [==============================] - 26s 252ms/step - loss: 1.0520 - categorical_accuracy: 0.5187 - val_loss: 1.4376 - val_categorical_accuracy: 0.4330\n",
            "Epoch 24/200\n",
            "104/105 [============================>.] - ETA: 0s - loss: 1.0149 - categorical_accuracy: 0.5370\n",
            "Epoch 00024: val_categorical_accuracy improved from 0.54375 to 0.57143, saving model to /content/drive/My Drive/Accent_Detection_Out/CustomNet_ResNet_V1_best.hdf5\n",
            "105/105 [==============================] - 30s 286ms/step - loss: 1.0128 - categorical_accuracy: 0.5378 - val_loss: 0.9151 - val_categorical_accuracy: 0.5714\n",
            "Epoch 25/200\n",
            "104/105 [============================>.] - ETA: 0s - loss: 0.9892 - categorical_accuracy: 0.5517\n",
            "Epoch 00025: val_categorical_accuracy did not improve from 0.57143\n",
            "105/105 [==============================] - 27s 255ms/step - loss: 0.9895 - categorical_accuracy: 0.5506 - val_loss: 0.9051 - val_categorical_accuracy: 0.5714\n",
            "Epoch 26/200\n",
            "104/105 [============================>.] - ETA: 0s - loss: 0.9804 - categorical_accuracy: 0.5531\n",
            "Epoch 00026: val_categorical_accuracy did not improve from 0.57143\n",
            "105/105 [==============================] - 26s 251ms/step - loss: 0.9812 - categorical_accuracy: 0.5523 - val_loss: 2.7512 - val_categorical_accuracy: 0.4357\n",
            "Epoch 27/200\n",
            "104/105 [============================>.] - ETA: 0s - loss: 0.9732 - categorical_accuracy: 0.5506\n",
            "Epoch 00027: val_categorical_accuracy did not improve from 0.57143\n",
            "105/105 [==============================] - 26s 252ms/step - loss: 0.9733 - categorical_accuracy: 0.5513 - val_loss: 1.7265 - val_categorical_accuracy: 0.4545\n",
            "Epoch 28/200\n",
            "104/105 [============================>.] - ETA: 0s - loss: 0.9822 - categorical_accuracy: 0.5547\n",
            "Epoch 00028: val_categorical_accuracy did not improve from 0.57143\n",
            "105/105 [==============================] - 26s 250ms/step - loss: 0.9821 - categorical_accuracy: 0.5560 - val_loss: 2.8298 - val_categorical_accuracy: 0.3768\n",
            "Epoch 29/200\n",
            "104/105 [============================>.] - ETA: 0s - loss: 0.9610 - categorical_accuracy: 0.5631\n",
            "Epoch 00029: val_categorical_accuracy improved from 0.57143 to 0.61518, saving model to /content/drive/My Drive/Accent_Detection_Out/CustomNet_ResNet_V1_best.hdf5\n",
            "105/105 [==============================] - 32s 302ms/step - loss: 0.9593 - categorical_accuracy: 0.5631 - val_loss: 0.8455 - val_categorical_accuracy: 0.6152\n",
            "Epoch 30/200\n",
            "104/105 [============================>.] - ETA: 0s - loss: 0.9213 - categorical_accuracy: 0.5899\n",
            "Epoch 00030: val_categorical_accuracy improved from 0.61518 to 0.62768, saving model to /content/drive/My Drive/Accent_Detection_Out/CustomNet_ResNet_V1_best.hdf5\n",
            "105/105 [==============================] - 32s 306ms/step - loss: 0.9222 - categorical_accuracy: 0.5887 - val_loss: 0.8290 - val_categorical_accuracy: 0.6277\n",
            "Epoch 31/200\n",
            "104/105 [============================>.] - ETA: 0s - loss: 0.8643 - categorical_accuracy: 0.6124\n",
            "Epoch 00031: val_categorical_accuracy did not improve from 0.62768\n",
            "105/105 [==============================] - 27s 254ms/step - loss: 0.8643 - categorical_accuracy: 0.6116 - val_loss: 1.0766 - val_categorical_accuracy: 0.5214\n",
            "Epoch 32/200\n",
            "104/105 [============================>.] - ETA: 0s - loss: 0.9127 - categorical_accuracy: 0.6056\n",
            "Epoch 00032: val_categorical_accuracy did not improve from 0.62768\n",
            "105/105 [==============================] - 26s 252ms/step - loss: 0.9118 - categorical_accuracy: 0.6052 - val_loss: 0.9695 - val_categorical_accuracy: 0.5473\n",
            "Epoch 33/200\n",
            "104/105 [============================>.] - ETA: 0s - loss: 0.8588 - categorical_accuracy: 0.6232\n",
            "Epoch 00033: val_categorical_accuracy did not improve from 0.62768\n",
            "105/105 [==============================] - 26s 252ms/step - loss: 0.8589 - categorical_accuracy: 0.6232 - val_loss: 0.9360 - val_categorical_accuracy: 0.5661\n",
            "Epoch 34/200\n",
            "104/105 [============================>.] - ETA: 0s - loss: 0.8269 - categorical_accuracy: 0.6403\n",
            "Epoch 00034: val_categorical_accuracy did not improve from 0.62768\n",
            "105/105 [==============================] - 26s 251ms/step - loss: 0.8261 - categorical_accuracy: 0.6404 - val_loss: 0.8975 - val_categorical_accuracy: 0.6000\n",
            "Epoch 35/200\n",
            "104/105 [============================>.] - ETA: 0s - loss: 0.8140 - categorical_accuracy: 0.6433\n",
            "Epoch 00035: val_categorical_accuracy did not improve from 0.62768\n",
            "105/105 [==============================] - 27s 253ms/step - loss: 0.8134 - categorical_accuracy: 0.6434 - val_loss: 1.0989 - val_categorical_accuracy: 0.5571\n",
            "Epoch 36/200\n",
            "104/105 [============================>.] - ETA: 0s - loss: 0.8110 - categorical_accuracy: 0.6602\n",
            "Epoch 00036: val_categorical_accuracy did not improve from 0.62768\n",
            "105/105 [==============================] - 26s 250ms/step - loss: 0.8106 - categorical_accuracy: 0.6608 - val_loss: 1.2117 - val_categorical_accuracy: 0.5054\n",
            "Epoch 37/200\n",
            "104/105 [============================>.] - ETA: 0s - loss: 0.7793 - categorical_accuracy: 0.6687\n",
            "Epoch 00037: val_categorical_accuracy did not improve from 0.62768\n",
            "105/105 [==============================] - 26s 250ms/step - loss: 0.7807 - categorical_accuracy: 0.6689 - val_loss: 0.9145 - val_categorical_accuracy: 0.6062\n",
            "Epoch 38/200\n",
            "104/105 [============================>.] - ETA: 0s - loss: 0.8039 - categorical_accuracy: 0.6596\n",
            "Epoch 00038: val_categorical_accuracy did not improve from 0.62768\n",
            "105/105 [==============================] - 27s 253ms/step - loss: 0.8034 - categorical_accuracy: 0.6599 - val_loss: 2.5582 - val_categorical_accuracy: 0.4973\n",
            "Epoch 39/200\n",
            "104/105 [============================>.] - ETA: 0s - loss: 0.8772 - categorical_accuracy: 0.6223\n",
            "Epoch 00039: val_categorical_accuracy did not improve from 0.62768\n",
            "105/105 [==============================] - 26s 251ms/step - loss: 0.8778 - categorical_accuracy: 0.6229 - val_loss: 1.5109 - val_categorical_accuracy: 0.4500\n",
            "Epoch 40/200\n",
            "104/105 [============================>.] - ETA: 0s - loss: 0.8943 - categorical_accuracy: 0.6138\n",
            "Epoch 00040: val_categorical_accuracy did not improve from 0.62768\n",
            "105/105 [==============================] - 26s 252ms/step - loss: 0.8964 - categorical_accuracy: 0.6127 - val_loss: 0.9546 - val_categorical_accuracy: 0.5723\n",
            "Epoch 41/200\n",
            "104/105 [============================>.] - ETA: 0s - loss: 0.8162 - categorical_accuracy: 0.6563\n",
            "Epoch 00041: val_categorical_accuracy did not improve from 0.62768\n",
            "105/105 [==============================] - 26s 249ms/step - loss: 0.8194 - categorical_accuracy: 0.6554 - val_loss: 0.9582 - val_categorical_accuracy: 0.5518\n",
            "Epoch 42/200\n",
            "104/105 [============================>.] - ETA: 0s - loss: 0.7826 - categorical_accuracy: 0.6641\n",
            "Epoch 00042: val_categorical_accuracy improved from 0.62768 to 0.62946, saving model to /content/drive/My Drive/Accent_Detection_Out/CustomNet_ResNet_V1_best.hdf5\n",
            "105/105 [==============================] - 30s 287ms/step - loss: 0.7829 - categorical_accuracy: 0.6646 - val_loss: 0.8658 - val_categorical_accuracy: 0.6295\n",
            "Epoch 43/200\n",
            "104/105 [============================>.] - ETA: 0s - loss: 0.7619 - categorical_accuracy: 0.6805\n",
            "Epoch 00043: val_categorical_accuracy did not improve from 0.62946\n",
            "105/105 [==============================] - 27s 256ms/step - loss: 0.7625 - categorical_accuracy: 0.6802 - val_loss: 3.6378 - val_categorical_accuracy: 0.4527\n",
            "Epoch 44/200\n",
            "104/105 [============================>.] - ETA: 0s - loss: 0.7391 - categorical_accuracy: 0.6964\n",
            "Epoch 00044: val_categorical_accuracy did not improve from 0.62946\n",
            "105/105 [==============================] - 26s 250ms/step - loss: 0.7393 - categorical_accuracy: 0.6954 - val_loss: 0.9848 - val_categorical_accuracy: 0.5938\n",
            "Epoch 45/200\n",
            "104/105 [============================>.] - ETA: 0s - loss: 0.7268 - categorical_accuracy: 0.7007\n",
            "Epoch 00045: val_categorical_accuracy did not improve from 0.62946\n",
            "105/105 [==============================] - 26s 251ms/step - loss: 0.7254 - categorical_accuracy: 0.7015 - val_loss: 1.3033 - val_categorical_accuracy: 0.5839\n",
            "Epoch 46/200\n",
            "104/105 [============================>.] - ETA: 0s - loss: 0.7242 - categorical_accuracy: 0.7067\n",
            "Epoch 00046: val_categorical_accuracy did not improve from 0.62946\n",
            "105/105 [==============================] - 26s 251ms/step - loss: 0.7242 - categorical_accuracy: 0.7071 - val_loss: 0.9084 - val_categorical_accuracy: 0.6000\n",
            "Epoch 47/200\n",
            "104/105 [============================>.] - ETA: 0s - loss: 0.6696 - categorical_accuracy: 0.7301\n",
            "Epoch 00047: val_categorical_accuracy did not improve from 0.62946\n",
            "105/105 [==============================] - 26s 252ms/step - loss: 0.6696 - categorical_accuracy: 0.7297 - val_loss: 3.6755 - val_categorical_accuracy: 0.4071\n",
            "Epoch 48/200\n",
            "104/105 [============================>.] - ETA: 0s - loss: 0.6688 - categorical_accuracy: 0.7263\n",
            "Epoch 00048: val_categorical_accuracy did not improve from 0.62946\n",
            "105/105 [==============================] - 26s 251ms/step - loss: 0.6690 - categorical_accuracy: 0.7265 - val_loss: 4.2725 - val_categorical_accuracy: 0.4259\n",
            "Epoch 49/200\n",
            "104/105 [============================>.] - ETA: 0s - loss: 0.6656 - categorical_accuracy: 0.7404\n",
            "Epoch 00049: val_categorical_accuracy did not improve from 0.62946\n",
            "105/105 [==============================] - 26s 248ms/step - loss: 0.6656 - categorical_accuracy: 0.7405 - val_loss: 1.0534 - val_categorical_accuracy: 0.5688\n",
            "Epoch 50/200\n",
            "104/105 [============================>.] - ETA: 0s - loss: 0.6251 - categorical_accuracy: 0.7581\n",
            "Epoch 00050: val_categorical_accuracy did not improve from 0.62946\n",
            "105/105 [==============================] - 26s 250ms/step - loss: 0.6233 - categorical_accuracy: 0.7589 - val_loss: 0.8556 - val_categorical_accuracy: 0.6196\n",
            "Epoch 51/200\n",
            "104/105 [============================>.] - ETA: 0s - loss: 0.5858 - categorical_accuracy: 0.7656\n",
            "Epoch 00051: val_categorical_accuracy did not improve from 0.62946\n",
            "105/105 [==============================] - 26s 248ms/step - loss: 0.5874 - categorical_accuracy: 0.7658 - val_loss: 1.0002 - val_categorical_accuracy: 0.6277\n",
            "Epoch 52/200\n",
            "104/105 [============================>.] - ETA: 0s - loss: 0.5840 - categorical_accuracy: 0.7566\n",
            "Epoch 00052: val_categorical_accuracy did not improve from 0.62946\n",
            "105/105 [==============================] - 26s 249ms/step - loss: 0.5823 - categorical_accuracy: 0.7571 - val_loss: 1.0703 - val_categorical_accuracy: 0.5893\n",
            "Epoch 53/200\n",
            "104/105 [============================>.] - ETA: 0s - loss: 0.6104 - categorical_accuracy: 0.7644\n",
            "Epoch 00053: val_categorical_accuracy did not improve from 0.62946\n",
            "105/105 [==============================] - 26s 250ms/step - loss: 0.6101 - categorical_accuracy: 0.7649 - val_loss: 1.2471 - val_categorical_accuracy: 0.5268\n",
            "Epoch 54/200\n",
            "104/105 [============================>.] - ETA: 0s - loss: 0.5626 - categorical_accuracy: 0.7747\n",
            "Epoch 00054: val_categorical_accuracy did not improve from 0.62946\n",
            "105/105 [==============================] - 27s 253ms/step - loss: 0.5611 - categorical_accuracy: 0.7754 - val_loss: 1.0216 - val_categorical_accuracy: 0.6161\n",
            "Epoch 55/200\n",
            "104/105 [============================>.] - ETA: 0s - loss: 0.6394 - categorical_accuracy: 0.7430\n",
            "Epoch 00055: val_categorical_accuracy did not improve from 0.62946\n",
            "105/105 [==============================] - 26s 251ms/step - loss: 0.6404 - categorical_accuracy: 0.7418 - val_loss: 1.8558 - val_categorical_accuracy: 0.5991\n",
            "Epoch 56/200\n",
            "104/105 [============================>.] - ETA: 0s - loss: 0.5866 - categorical_accuracy: 0.7747\n",
            "Epoch 00056: val_categorical_accuracy did not improve from 0.62946\n",
            "105/105 [==============================] - 26s 248ms/step - loss: 0.5861 - categorical_accuracy: 0.7754 - val_loss: 1.1834 - val_categorical_accuracy: 0.5420\n",
            "Epoch 57/200\n",
            "104/105 [============================>.] - ETA: 0s - loss: 0.5389 - categorical_accuracy: 0.7858\n",
            "Epoch 00057: val_categorical_accuracy did not improve from 0.62946\n",
            "105/105 [==============================] - 26s 251ms/step - loss: 0.5380 - categorical_accuracy: 0.7860 - val_loss: 1.0476 - val_categorical_accuracy: 0.6089\n",
            "Epoch 58/200\n",
            "104/105 [============================>.] - ETA: 0s - loss: 0.5267 - categorical_accuracy: 0.7933\n",
            "Epoch 00058: val_categorical_accuracy did not improve from 0.62946\n",
            "105/105 [==============================] - 26s 248ms/step - loss: 0.5246 - categorical_accuracy: 0.7940 - val_loss: 1.0920 - val_categorical_accuracy: 0.5875\n",
            "Epoch 59/200\n",
            "104/105 [============================>.] - ETA: 0s - loss: 0.5195 - categorical_accuracy: 0.8017\n",
            "Epoch 00059: val_categorical_accuracy did not improve from 0.62946\n",
            "105/105 [==============================] - 26s 252ms/step - loss: 0.5198 - categorical_accuracy: 0.8018 - val_loss: 1.1112 - val_categorical_accuracy: 0.6080\n",
            "Epoch 60/200\n",
            "104/105 [============================>.] - ETA: 0s - loss: 0.5313 - categorical_accuracy: 0.7992\n",
            "Epoch 00060: val_categorical_accuracy did not improve from 0.62946\n",
            "105/105 [==============================] - 26s 251ms/step - loss: 0.5321 - categorical_accuracy: 0.7993 - val_loss: 1.1828 - val_categorical_accuracy: 0.5714\n",
            "Epoch 61/200\n",
            "104/105 [============================>.] - ETA: 0s - loss: 0.4569 - categorical_accuracy: 0.8194\n",
            "Epoch 00061: val_categorical_accuracy did not improve from 0.62946\n",
            "105/105 [==============================] - 26s 251ms/step - loss: 0.4582 - categorical_accuracy: 0.8184 - val_loss: 1.0860 - val_categorical_accuracy: 0.6161\n",
            "Epoch 62/200\n",
            "104/105 [============================>.] - ETA: 0s - loss: 0.5174 - categorical_accuracy: 0.7996\n",
            "Epoch 00062: val_categorical_accuracy did not improve from 0.62946\n",
            "105/105 [==============================] - 26s 250ms/step - loss: 0.5176 - categorical_accuracy: 0.7995 - val_loss: 1.1501 - val_categorical_accuracy: 0.5786\n",
            "Epoch 63/200\n",
            "104/105 [============================>.] - ETA: 0s - loss: 0.4149 - categorical_accuracy: 0.8431\n",
            "Epoch 00063: val_categorical_accuracy did not improve from 0.62946\n",
            "105/105 [==============================] - 26s 251ms/step - loss: 0.4151 - categorical_accuracy: 0.8426 - val_loss: 1.0138 - val_categorical_accuracy: 0.6286\n",
            "Epoch 64/200\n",
            "104/105 [============================>.] - ETA: 0s - loss: 0.4087 - categorical_accuracy: 0.8512\n",
            "Epoch 00064: val_categorical_accuracy did not improve from 0.62946\n",
            "105/105 [==============================] - 26s 251ms/step - loss: 0.4147 - categorical_accuracy: 0.8500 - val_loss: 1.2918 - val_categorical_accuracy: 0.5929\n",
            "Epoch 65/200\n",
            "104/105 [============================>.] - ETA: 0s - loss: 0.3976 - categorical_accuracy: 0.8486\n",
            "Epoch 00065: val_categorical_accuracy did not improve from 0.62946\n",
            "105/105 [==============================] - 26s 250ms/step - loss: 0.3967 - categorical_accuracy: 0.8488 - val_loss: 1.2602 - val_categorical_accuracy: 0.5991\n",
            "Epoch 66/200\n",
            "104/105 [============================>.] - ETA: 0s - loss: 0.4214 - categorical_accuracy: 0.8403\n",
            "Epoch 00066: val_categorical_accuracy did not improve from 0.62946\n",
            "105/105 [==============================] - 26s 251ms/step - loss: 0.4197 - categorical_accuracy: 0.8410 - val_loss: 1.1397 - val_categorical_accuracy: 0.6071\n",
            "Epoch 67/200\n",
            "104/105 [============================>.] - ETA: 0s - loss: 0.3794 - categorical_accuracy: 0.8576\n",
            "Epoch 00067: val_categorical_accuracy did not improve from 0.62946\n",
            "105/105 [==============================] - 26s 249ms/step - loss: 0.3786 - categorical_accuracy: 0.8577 - val_loss: 3.2304 - val_categorical_accuracy: 0.3616\n",
            "Epoch 68/200\n",
            "104/105 [============================>.] - ETA: 0s - loss: 0.4791 - categorical_accuracy: 0.8285\n",
            "Epoch 00068: val_categorical_accuracy did not improve from 0.62946\n",
            "105/105 [==============================] - 26s 251ms/step - loss: 0.4803 - categorical_accuracy: 0.8280 - val_loss: 1.2501 - val_categorical_accuracy: 0.6259\n",
            "Epoch 69/200\n",
            "104/105 [============================>.] - ETA: 0s - loss: 0.3351 - categorical_accuracy: 0.8825\n",
            "Epoch 00069: val_categorical_accuracy improved from 0.62946 to 0.64643, saving model to /content/drive/My Drive/Accent_Detection_Out/CustomNet_ResNet_V1_best.hdf5\n",
            "105/105 [==============================] - 31s 294ms/step - loss: 0.3347 - categorical_accuracy: 0.8827 - val_loss: 1.1153 - val_categorical_accuracy: 0.6464\n",
            "Epoch 70/200\n",
            "104/105 [============================>.] - ETA: 0s - loss: 0.3163 - categorical_accuracy: 0.8843\n",
            "Epoch 00070: val_categorical_accuracy did not improve from 0.64643\n",
            "105/105 [==============================] - 27s 253ms/step - loss: 0.3156 - categorical_accuracy: 0.8845 - val_loss: 1.1250 - val_categorical_accuracy: 0.6134\n",
            "Epoch 71/200\n",
            "104/105 [============================>.] - ETA: 0s - loss: 0.3199 - categorical_accuracy: 0.8834\n",
            "Epoch 00071: val_categorical_accuracy did not improve from 0.64643\n",
            "105/105 [==============================] - 26s 252ms/step - loss: 0.3193 - categorical_accuracy: 0.8833 - val_loss: 1.2208 - val_categorical_accuracy: 0.6384\n",
            "Epoch 72/200\n",
            "104/105 [============================>.] - ETA: 0s - loss: 0.3792 - categorical_accuracy: 0.8707\n",
            "Epoch 00072: val_categorical_accuracy did not improve from 0.64643\n",
            "105/105 [==============================] - 26s 249ms/step - loss: 0.3838 - categorical_accuracy: 0.8686 - val_loss: 1.4081 - val_categorical_accuracy: 0.5464\n",
            "Epoch 73/200\n",
            "104/105 [============================>.] - ETA: 0s - loss: 0.3259 - categorical_accuracy: 0.8714\n",
            "Epoch 00073: val_categorical_accuracy did not improve from 0.64643\n",
            "105/105 [==============================] - 26s 252ms/step - loss: 0.3254 - categorical_accuracy: 0.8717 - val_loss: 6.0077 - val_categorical_accuracy: 0.4366\n",
            "Epoch 74/200\n",
            "104/105 [============================>.] - ETA: 0s - loss: 0.3046 - categorical_accuracy: 0.8937\n",
            "Epoch 00074: val_categorical_accuracy did not improve from 0.64643\n",
            "105/105 [==============================] - 26s 250ms/step - loss: 0.3034 - categorical_accuracy: 0.8941 - val_loss: 6.5838 - val_categorical_accuracy: 0.3589\n",
            "Epoch 75/200\n",
            "104/105 [============================>.] - ETA: 0s - loss: 0.3334 - categorical_accuracy: 0.8849\n",
            "Epoch 00075: val_categorical_accuracy did not improve from 0.64643\n",
            "105/105 [==============================] - 27s 252ms/step - loss: 0.3332 - categorical_accuracy: 0.8848 - val_loss: 1.7270 - val_categorical_accuracy: 0.5571\n",
            "Epoch 76/200\n",
            "104/105 [============================>.] - ETA: 0s - loss: 0.2593 - categorical_accuracy: 0.9006\n",
            "Epoch 00076: val_categorical_accuracy did not improve from 0.64643\n",
            "105/105 [==============================] - 26s 251ms/step - loss: 0.2591 - categorical_accuracy: 0.9007 - val_loss: 1.1796 - val_categorical_accuracy: 0.6384\n",
            "Epoch 77/200\n",
            "104/105 [============================>.] - ETA: 0s - loss: 0.2862 - categorical_accuracy: 0.9012\n",
            "Epoch 00077: val_categorical_accuracy did not improve from 0.64643\n",
            "105/105 [==============================] - 26s 251ms/step - loss: 0.2850 - categorical_accuracy: 0.9019 - val_loss: 2.1425 - val_categorical_accuracy: 0.5241\n",
            "Epoch 78/200\n",
            "104/105 [============================>.] - ETA: 0s - loss: 0.3840 - categorical_accuracy: 0.8698\n",
            "Epoch 00078: val_categorical_accuracy did not improve from 0.64643\n",
            "105/105 [==============================] - 26s 250ms/step - loss: 0.3824 - categorical_accuracy: 0.8702 - val_loss: 3.5243 - val_categorical_accuracy: 0.4830\n",
            "Epoch 79/200\n",
            "104/105 [============================>.] - ETA: 0s - loss: 0.2529 - categorical_accuracy: 0.9046\n",
            "Epoch 00079: val_categorical_accuracy did not improve from 0.64643\n",
            "105/105 [==============================] - 26s 247ms/step - loss: 0.2543 - categorical_accuracy: 0.9034 - val_loss: 2.7520 - val_categorical_accuracy: 0.5071\n",
            "Epoch 80/200\n",
            "104/105 [============================>.] - ETA: 0s - loss: 0.2190 - categorical_accuracy: 0.9191\n",
            "Epoch 00080: val_categorical_accuracy did not improve from 0.64643\n",
            "105/105 [==============================] - 26s 249ms/step - loss: 0.2201 - categorical_accuracy: 0.9186 - val_loss: 1.5531 - val_categorical_accuracy: 0.6429\n",
            "Epoch 81/200\n",
            "104/105 [============================>.] - ETA: 0s - loss: 0.2437 - categorical_accuracy: 0.9129\n",
            "Epoch 00081: val_categorical_accuracy did not improve from 0.64643\n",
            "105/105 [==============================] - 26s 247ms/step - loss: 0.2418 - categorical_accuracy: 0.9137 - val_loss: 1.3834 - val_categorical_accuracy: 0.6384\n",
            "Epoch 82/200\n",
            "104/105 [============================>.] - ETA: 0s - loss: 0.2340 - categorical_accuracy: 0.9203\n",
            "Epoch 00082: val_categorical_accuracy did not improve from 0.64643\n",
            "105/105 [==============================] - 26s 252ms/step - loss: 0.2360 - categorical_accuracy: 0.9201 - val_loss: 1.3306 - val_categorical_accuracy: 0.6125\n",
            "Epoch 83/200\n",
            "104/105 [============================>.] - ETA: 0s - loss: 0.2388 - categorical_accuracy: 0.9168\n",
            "Epoch 00083: val_categorical_accuracy did not improve from 0.64643\n",
            "105/105 [==============================] - 26s 249ms/step - loss: 0.2385 - categorical_accuracy: 0.9170 - val_loss: 1.2227 - val_categorical_accuracy: 0.6223\n",
            "Epoch 84/200\n",
            "104/105 [============================>.] - ETA: 0s - loss: 0.2487 - categorical_accuracy: 0.9139\n",
            "Epoch 00084: val_categorical_accuracy improved from 0.64643 to 0.65357, saving model to /content/drive/My Drive/Accent_Detection_Out/CustomNet_ResNet_V1_best.hdf5\n",
            "105/105 [==============================] - 31s 292ms/step - loss: 0.2492 - categorical_accuracy: 0.9133 - val_loss: 1.3138 - val_categorical_accuracy: 0.6536\n",
            "Epoch 85/200\n",
            "104/105 [============================>.] - ETA: 0s - loss: 0.2453 - categorical_accuracy: 0.9126\n",
            "Epoch 00085: val_categorical_accuracy did not improve from 0.65357\n",
            "105/105 [==============================] - 27s 254ms/step - loss: 0.2466 - categorical_accuracy: 0.9119 - val_loss: 4.2456 - val_categorical_accuracy: 0.5170\n",
            "Epoch 86/200\n",
            "104/105 [============================>.] - ETA: 0s - loss: 0.1620 - categorical_accuracy: 0.9429\n",
            "Epoch 00086: val_categorical_accuracy did not improve from 0.65357\n",
            "105/105 [==============================] - 26s 252ms/step - loss: 0.1609 - categorical_accuracy: 0.9435 - val_loss: 1.3641 - val_categorical_accuracy: 0.6518\n",
            "Epoch 87/200\n",
            "104/105 [============================>.] - ETA: 0s - loss: 0.2697 - categorical_accuracy: 0.9097\n",
            "Epoch 00087: val_categorical_accuracy did not improve from 0.65357\n",
            "105/105 [==============================] - 26s 250ms/step - loss: 0.2701 - categorical_accuracy: 0.9091 - val_loss: 1.4971 - val_categorical_accuracy: 0.5946\n",
            "Epoch 88/200\n",
            "104/105 [============================>.] - ETA: 0s - loss: 0.2216 - categorical_accuracy: 0.9227\n",
            "Epoch 00088: val_categorical_accuracy did not improve from 0.65357\n",
            "105/105 [==============================] - 26s 249ms/step - loss: 0.2198 - categorical_accuracy: 0.9234 - val_loss: 1.4150 - val_categorical_accuracy: 0.6491\n",
            "Epoch 89/200\n",
            "104/105 [============================>.] - ETA: 0s - loss: 0.1969 - categorical_accuracy: 0.9293\n",
            "Epoch 00089: val_categorical_accuracy did not improve from 0.65357\n",
            "105/105 [==============================] - 26s 251ms/step - loss: 0.2035 - categorical_accuracy: 0.9287 - val_loss: 1.3707 - val_categorical_accuracy: 0.6295\n",
            "Epoch 90/200\n",
            "104/105 [============================>.] - ETA: 0s - loss: 0.2191 - categorical_accuracy: 0.9225\n",
            "Epoch 00090: val_categorical_accuracy improved from 0.65357 to 0.65893, saving model to /content/drive/My Drive/Accent_Detection_Out/CustomNet_ResNet_V1_best.hdf5\n",
            "105/105 [==============================] - 30s 286ms/step - loss: 0.2174 - categorical_accuracy: 0.9232 - val_loss: 1.1826 - val_categorical_accuracy: 0.6589\n",
            "Epoch 91/200\n",
            "104/105 [============================>.] - ETA: 0s - loss: 0.1570 - categorical_accuracy: 0.9396\n",
            "Epoch 00091: val_categorical_accuracy did not improve from 0.65893\n",
            "105/105 [==============================] - 27s 254ms/step - loss: 0.1561 - categorical_accuracy: 0.9402 - val_loss: 1.7052 - val_categorical_accuracy: 0.6393\n",
            "Epoch 92/200\n",
            "104/105 [============================>.] - ETA: 0s - loss: 0.1539 - categorical_accuracy: 0.9474\n",
            "Epoch 00092: val_categorical_accuracy did not improve from 0.65893\n",
            "105/105 [==============================] - 26s 250ms/step - loss: 0.1546 - categorical_accuracy: 0.9471 - val_loss: 2.2595 - val_categorical_accuracy: 0.6250\n",
            "Epoch 93/200\n",
            "104/105 [============================>.] - ETA: 0s - loss: 0.1233 - categorical_accuracy: 0.9553\n",
            "Epoch 00093: val_categorical_accuracy improved from 0.65893 to 0.67768, saving model to /content/drive/My Drive/Accent_Detection_Out/CustomNet_ResNet_V1_best.hdf5\n",
            "105/105 [==============================] - 34s 321ms/step - loss: 0.1231 - categorical_accuracy: 0.9554 - val_loss: 1.3647 - val_categorical_accuracy: 0.6777\n",
            "Epoch 94/200\n",
            "104/105 [============================>.] - ETA: 0s - loss: 0.1339 - categorical_accuracy: 0.9541\n",
            "Epoch 00094: val_categorical_accuracy did not improve from 0.67768\n",
            "105/105 [==============================] - 27s 254ms/step - loss: 0.1334 - categorical_accuracy: 0.9542 - val_loss: 1.5636 - val_categorical_accuracy: 0.6679\n",
            "Epoch 95/200\n",
            "104/105 [============================>.] - ETA: 0s - loss: 0.1676 - categorical_accuracy: 0.9423\n",
            "Epoch 00095: val_categorical_accuracy did not improve from 0.67768\n",
            "105/105 [==============================] - 26s 250ms/step - loss: 0.1668 - categorical_accuracy: 0.9426 - val_loss: 1.4035 - val_categorical_accuracy: 0.6268\n",
            "Epoch 96/200\n",
            "104/105 [============================>.] - ETA: 0s - loss: 0.1410 - categorical_accuracy: 0.9490\n",
            "Epoch 00096: val_categorical_accuracy did not improve from 0.67768\n",
            "105/105 [==============================] - 26s 249ms/step - loss: 0.1405 - categorical_accuracy: 0.9488 - val_loss: 1.6383 - val_categorical_accuracy: 0.6446\n",
            "Epoch 97/200\n",
            "104/105 [============================>.] - ETA: 0s - loss: 0.1286 - categorical_accuracy: 0.9511\n",
            "Epoch 00097: val_categorical_accuracy did not improve from 0.67768\n",
            "105/105 [==============================] - 26s 252ms/step - loss: 0.1296 - categorical_accuracy: 0.9509 - val_loss: 1.7076 - val_categorical_accuracy: 0.6482\n",
            "Epoch 98/200\n",
            "104/105 [============================>.] - ETA: 0s - loss: 0.1550 - categorical_accuracy: 0.9444\n",
            "Epoch 00098: val_categorical_accuracy did not improve from 0.67768\n",
            "105/105 [==============================] - 26s 250ms/step - loss: 0.1545 - categorical_accuracy: 0.9444 - val_loss: 1.3865 - val_categorical_accuracy: 0.6580\n",
            "Epoch 99/200\n",
            "104/105 [============================>.] - ETA: 0s - loss: 0.1150 - categorical_accuracy: 0.9568\n",
            "Epoch 00099: val_categorical_accuracy improved from 0.67768 to 0.69375, saving model to /content/drive/My Drive/Accent_Detection_Out/CustomNet_ResNet_V1_best.hdf5\n",
            "105/105 [==============================] - 31s 299ms/step - loss: 0.1145 - categorical_accuracy: 0.9566 - val_loss: 1.3008 - val_categorical_accuracy: 0.6938\n",
            "Epoch 100/200\n",
            "104/105 [============================>.] - ETA: 0s - loss: 0.1256 - categorical_accuracy: 0.9589\n",
            "Epoch 00100: val_categorical_accuracy did not improve from 0.69375\n",
            "105/105 [==============================] - 27s 255ms/step - loss: 0.1247 - categorical_accuracy: 0.9590 - val_loss: 1.7692 - val_categorical_accuracy: 0.6518\n",
            "Epoch 101/200\n",
            "104/105 [============================>.] - ETA: 0s - loss: 0.1381 - categorical_accuracy: 0.9517\n",
            "Epoch 00101: val_categorical_accuracy did not improve from 0.69375\n",
            "105/105 [==============================] - 26s 251ms/step - loss: 0.1377 - categorical_accuracy: 0.9518 - val_loss: 1.4329 - val_categorical_accuracy: 0.6500\n",
            "Epoch 102/200\n",
            "104/105 [============================>.] - ETA: 0s - loss: 0.1489 - categorical_accuracy: 0.9462\n",
            "Epoch 00102: val_categorical_accuracy did not improve from 0.69375\n",
            "105/105 [==============================] - 26s 252ms/step - loss: 0.1493 - categorical_accuracy: 0.9459 - val_loss: 2.6998 - val_categorical_accuracy: 0.5509\n",
            "Epoch 103/200\n",
            "104/105 [============================>.] - ETA: 0s - loss: 0.2388 - categorical_accuracy: 0.9133\n",
            "Epoch 00103: val_categorical_accuracy did not improve from 0.69375\n",
            "105/105 [==============================] - 26s 251ms/step - loss: 0.2378 - categorical_accuracy: 0.9138 - val_loss: 1.9365 - val_categorical_accuracy: 0.6571\n",
            "Epoch 104/200\n",
            "104/105 [============================>.] - ETA: 0s - loss: 0.1720 - categorical_accuracy: 0.9402\n",
            "Epoch 00104: val_categorical_accuracy did not improve from 0.69375\n",
            "105/105 [==============================] - 27s 256ms/step - loss: 0.1759 - categorical_accuracy: 0.9390 - val_loss: 2.1578 - val_categorical_accuracy: 0.6062\n",
            "Epoch 105/200\n",
            "104/105 [============================>.] - ETA: 0s - loss: 0.1748 - categorical_accuracy: 0.9366\n",
            "Epoch 00105: val_categorical_accuracy did not improve from 0.69375\n",
            "105/105 [==============================] - 26s 252ms/step - loss: 0.1736 - categorical_accuracy: 0.9372 - val_loss: 2.5069 - val_categorical_accuracy: 0.6259\n",
            "Epoch 106/200\n",
            "104/105 [============================>.] - ETA: 0s - loss: 0.1376 - categorical_accuracy: 0.9544\n",
            "Epoch 00106: val_categorical_accuracy did not improve from 0.69375\n",
            "105/105 [==============================] - 27s 254ms/step - loss: 0.1372 - categorical_accuracy: 0.9542 - val_loss: 1.5348 - val_categorical_accuracy: 0.6527\n",
            "Epoch 107/200\n",
            "104/105 [============================>.] - ETA: 0s - loss: 0.1060 - categorical_accuracy: 0.9635\n",
            "Epoch 00107: val_categorical_accuracy did not improve from 0.69375\n",
            "105/105 [==============================] - 26s 250ms/step - loss: 0.1064 - categorical_accuracy: 0.9632 - val_loss: 1.6970 - val_categorical_accuracy: 0.6652\n",
            "Epoch 108/200\n",
            "104/105 [============================>.] - ETA: 0s - loss: 0.1313 - categorical_accuracy: 0.9552\n",
            "Epoch 00108: val_categorical_accuracy did not improve from 0.69375\n",
            "105/105 [==============================] - 26s 252ms/step - loss: 0.1332 - categorical_accuracy: 0.9554 - val_loss: 2.3657 - val_categorical_accuracy: 0.5938\n",
            "Epoch 109/200\n",
            "104/105 [============================>.] - ETA: 0s - loss: 0.1034 - categorical_accuracy: 0.9611\n",
            "Epoch 00109: val_categorical_accuracy did not improve from 0.69375\n",
            "105/105 [==============================] - 26s 252ms/step - loss: 0.1030 - categorical_accuracy: 0.9612 - val_loss: 1.4899 - val_categorical_accuracy: 0.6554\n",
            "Epoch 110/200\n",
            "104/105 [============================>.] - ETA: 0s - loss: 0.1058 - categorical_accuracy: 0.9619\n",
            "Epoch 00110: val_categorical_accuracy did not improve from 0.69375\n",
            "105/105 [==============================] - 27s 255ms/step - loss: 0.1049 - categorical_accuracy: 0.9623 - val_loss: 1.3876 - val_categorical_accuracy: 0.6509\n",
            "Epoch 111/200\n",
            "104/105 [============================>.] - ETA: 0s - loss: 0.0951 - categorical_accuracy: 0.9662\n",
            "Epoch 00111: val_categorical_accuracy did not improve from 0.69375\n",
            "105/105 [==============================] - 27s 254ms/step - loss: 0.0956 - categorical_accuracy: 0.9659 - val_loss: 1.7622 - val_categorical_accuracy: 0.6375\n",
            "Epoch 112/200\n",
            "104/105 [============================>.] - ETA: 0s - loss: 0.1288 - categorical_accuracy: 0.9561\n",
            "Epoch 00112: val_categorical_accuracy did not improve from 0.69375\n",
            "105/105 [==============================] - 26s 250ms/step - loss: 0.1281 - categorical_accuracy: 0.9563 - val_loss: 2.0893 - val_categorical_accuracy: 0.6384\n",
            "Epoch 113/200\n",
            "104/105 [============================>.] - ETA: 0s - loss: 0.1063 - categorical_accuracy: 0.9639\n",
            "Epoch 00113: val_categorical_accuracy improved from 0.69375 to 0.70357, saving model to /content/drive/My Drive/Accent_Detection_Out/CustomNet_ResNet_V1_best.hdf5\n",
            "105/105 [==============================] - 31s 292ms/step - loss: 0.1063 - categorical_accuracy: 0.9636 - val_loss: 1.6196 - val_categorical_accuracy: 0.7036\n",
            "Epoch 114/200\n",
            "104/105 [============================>.] - ETA: 0s - loss: 0.1280 - categorical_accuracy: 0.9537\n",
            "Epoch 00114: val_categorical_accuracy did not improve from 0.70357\n",
            "105/105 [==============================] - 27s 254ms/step - loss: 0.1276 - categorical_accuracy: 0.9539 - val_loss: 1.4452 - val_categorical_accuracy: 0.6929\n",
            "Epoch 115/200\n",
            "104/105 [============================>.] - ETA: 0s - loss: 0.1096 - categorical_accuracy: 0.9648\n",
            "Epoch 00115: val_categorical_accuracy did not improve from 0.70357\n",
            "105/105 [==============================] - 27s 253ms/step - loss: 0.1091 - categorical_accuracy: 0.9648 - val_loss: 1.7567 - val_categorical_accuracy: 0.6313\n",
            "Epoch 116/200\n",
            "104/105 [============================>.] - ETA: 0s - loss: 0.0872 - categorical_accuracy: 0.9712\n",
            "Epoch 00116: val_categorical_accuracy did not improve from 0.70357\n",
            "105/105 [==============================] - 26s 250ms/step - loss: 0.0868 - categorical_accuracy: 0.9714 - val_loss: 2.3947 - val_categorical_accuracy: 0.6179\n",
            "Epoch 117/200\n",
            "104/105 [============================>.] - ETA: 0s - loss: 0.3691 - categorical_accuracy: 0.8913\n",
            "Epoch 00117: val_categorical_accuracy did not improve from 0.70357\n",
            "105/105 [==============================] - 26s 249ms/step - loss: 0.3704 - categorical_accuracy: 0.8915 - val_loss: 2.1488 - val_categorical_accuracy: 0.5545\n",
            "Epoch 118/200\n",
            "104/105 [============================>.] - ETA: 0s - loss: 0.2589 - categorical_accuracy: 0.9114\n",
            "Epoch 00118: val_categorical_accuracy did not improve from 0.70357\n",
            "105/105 [==============================] - 26s 252ms/step - loss: 0.2581 - categorical_accuracy: 0.9116 - val_loss: 2.0640 - val_categorical_accuracy: 0.5768\n",
            "Epoch 119/200\n",
            "104/105 [============================>.] - ETA: 0s - loss: 0.1638 - categorical_accuracy: 0.9490\n",
            "Epoch 00119: val_categorical_accuracy did not improve from 0.70357\n",
            "105/105 [==============================] - 26s 251ms/step - loss: 0.1660 - categorical_accuracy: 0.9480 - val_loss: 1.6388 - val_categorical_accuracy: 0.6455\n",
            "Epoch 120/200\n",
            "104/105 [============================>.] - ETA: 0s - loss: 0.1396 - categorical_accuracy: 0.9514\n",
            "Epoch 00120: val_categorical_accuracy did not improve from 0.70357\n",
            "105/105 [==============================] - 26s 251ms/step - loss: 0.1398 - categorical_accuracy: 0.9515 - val_loss: 1.9147 - val_categorical_accuracy: 0.6420\n",
            "Epoch 121/200\n",
            "104/105 [============================>.] - ETA: 0s - loss: 0.1279 - categorical_accuracy: 0.9526\n",
            "Epoch 00121: val_categorical_accuracy did not improve from 0.70357\n",
            "105/105 [==============================] - 27s 253ms/step - loss: 0.1284 - categorical_accuracy: 0.9521 - val_loss: 1.4850 - val_categorical_accuracy: 0.6429\n",
            "Epoch 122/200\n",
            "104/105 [============================>.] - ETA: 0s - loss: 0.1323 - categorical_accuracy: 0.9583\n",
            "Epoch 00122: val_categorical_accuracy did not improve from 0.70357\n",
            "105/105 [==============================] - 26s 250ms/step - loss: 0.1321 - categorical_accuracy: 0.9581 - val_loss: 2.5700 - val_categorical_accuracy: 0.5821\n",
            "Epoch 123/200\n",
            "104/105 [============================>.] - ETA: 0s - loss: 0.0985 - categorical_accuracy: 0.9635\n",
            "Epoch 00123: val_categorical_accuracy did not improve from 0.70357\n",
            "105/105 [==============================] - 26s 250ms/step - loss: 0.0976 - categorical_accuracy: 0.9638 - val_loss: 1.9895 - val_categorical_accuracy: 0.6339\n",
            "Epoch 124/200\n",
            "104/105 [============================>.] - ETA: 0s - loss: 0.1070 - categorical_accuracy: 0.9650\n",
            "Epoch 00124: val_categorical_accuracy did not improve from 0.70357\n",
            "105/105 [==============================] - 26s 251ms/step - loss: 0.1083 - categorical_accuracy: 0.9644 - val_loss: 2.4956 - val_categorical_accuracy: 0.6027\n",
            "Epoch 125/200\n",
            "104/105 [============================>.] - ETA: 0s - loss: 0.1316 - categorical_accuracy: 0.9573\n",
            "Epoch 00125: val_categorical_accuracy did not improve from 0.70357\n",
            "105/105 [==============================] - 26s 251ms/step - loss: 0.1312 - categorical_accuracy: 0.9574 - val_loss: 2.3168 - val_categorical_accuracy: 0.6321\n",
            "Epoch 126/200\n",
            "104/105 [============================>.] - ETA: 0s - loss: 0.1112 - categorical_accuracy: 0.9641\n",
            "Epoch 00126: val_categorical_accuracy did not improve from 0.70357\n",
            "105/105 [==============================] - 26s 250ms/step - loss: 0.1102 - categorical_accuracy: 0.9644 - val_loss: 1.4522 - val_categorical_accuracy: 0.6830\n",
            "Epoch 127/200\n",
            "104/105 [============================>.] - ETA: 0s - loss: 0.0640 - categorical_accuracy: 0.9780\n",
            "Epoch 00127: val_categorical_accuracy did not improve from 0.70357\n",
            "105/105 [==============================] - 26s 250ms/step - loss: 0.0642 - categorical_accuracy: 0.9779 - val_loss: 1.6874 - val_categorical_accuracy: 0.6866\n",
            "Epoch 128/200\n",
            "104/105 [============================>.] - ETA: 0s - loss: 0.0667 - categorical_accuracy: 0.9763\n",
            "Epoch 00128: val_categorical_accuracy did not improve from 0.70357\n",
            "105/105 [==============================] - 26s 250ms/step - loss: 0.0661 - categorical_accuracy: 0.9765 - val_loss: 1.6437 - val_categorical_accuracy: 0.6616\n",
            "Epoch 129/200\n",
            "104/105 [============================>.] - ETA: 0s - loss: 0.0836 - categorical_accuracy: 0.9739\n",
            "Epoch 00129: val_categorical_accuracy did not improve from 0.70357\n",
            "105/105 [==============================] - 26s 250ms/step - loss: 0.0831 - categorical_accuracy: 0.9741 - val_loss: 1.6563 - val_categorical_accuracy: 0.6732\n",
            "Epoch 130/200\n",
            "104/105 [============================>.] - ETA: 0s - loss: 0.1125 - categorical_accuracy: 0.9687\n",
            "Epoch 00130: val_categorical_accuracy did not improve from 0.70357\n",
            "105/105 [==============================] - 26s 245ms/step - loss: 0.1123 - categorical_accuracy: 0.9684 - val_loss: 1.5432 - val_categorical_accuracy: 0.6652\n",
            "Epoch 131/200\n",
            "104/105 [============================>.] - ETA: 0s - loss: 0.0786 - categorical_accuracy: 0.9760\n",
            "Epoch 00131: val_categorical_accuracy did not improve from 0.70357\n",
            "105/105 [==============================] - 27s 255ms/step - loss: 0.0779 - categorical_accuracy: 0.9762 - val_loss: 1.5651 - val_categorical_accuracy: 0.6804\n",
            "Epoch 132/200\n",
            "104/105 [============================>.] - ETA: 0s - loss: 0.0653 - categorical_accuracy: 0.9769"
          ],
          "name": "stdout"
        }
      ]
    },
    {
      "cell_type": "markdown",
      "metadata": {
        "id": "PS9NSlr4bGUM",
        "colab_type": "text"
      },
      "source": [
        "# Evaluate the training"
      ]
    },
    {
      "cell_type": "markdown",
      "metadata": {
        "id": "BfNPEoJNba72",
        "colab_type": "text"
      },
      "source": [
        "Let's plot the traininng progress"
      ]
    },
    {
      "cell_type": "code",
      "metadata": {
        "id": "0z0NiT9-DHdT",
        "colab_type": "code",
        "colab": {}
      },
      "source": [
        "# summarize history for accuracy\n",
        "plt.plot(fit_history.history['sparse_categorical_accuracy'])\n",
        "plt.plot(fit_history.history['val_sparse_categorical_accuracy'])\n",
        "plt.title('model accuracy')\n",
        "plt.ylabel('accuracy')\n",
        "plt.xlabel('epoch')\n",
        "plt.legend(['train', 'validation'], loc='upper left')\n",
        "plt.show()\n",
        "\n",
        "# summarize history for loss\n",
        "plt.plot(fit_history.history['loss'])\n",
        "plt.plot(fit_history.history['val_loss'])\n",
        "plt.title('model loss')\n",
        "plt.ylabel('loss')\n",
        "plt.xlabel('epoch')\n",
        "plt.legend(['train', 'validation'], loc='upper left')\n",
        "plt.show()"
      ],
      "execution_count": 0,
      "outputs": []
    },
    {
      "cell_type": "markdown",
      "metadata": {
        "id": "cenbFnjKbeue",
        "colab_type": "text"
      },
      "source": [
        "Lets also try to use Tensorboard."
      ]
    },
    {
      "cell_type": "markdown",
      "metadata": {
        "id": "_ff_5gP1bpmt",
        "colab_type": "text"
      },
      "source": [
        "# Review the model accuracy"
      ]
    },
    {
      "cell_type": "markdown",
      "metadata": {
        "id": "55LjSQ84b4Xa",
        "colab_type": "text"
      },
      "source": [
        "To do this we will use scikit learn to review some of the binary classification metrics.\n",
        "\n",
        "We will do a prediction over the validation data set and we will then compare the ground thruth with the predicted probabilities."
      ]
    },
    {
      "cell_type": "code",
      "metadata": {
        "id": "B_VFBAB_g26o",
        "colab_type": "code",
        "colab": {}
      },
      "source": [
        "# TODO: read the validation split file\n",
        "df = pd.read_csv(val_split_file)\n",
        "df.head()\n"
      ],
      "execution_count": 0,
      "outputs": []
    },
    {
      "cell_type": "code",
      "metadata": {
        "id": "UZNf8EWDko6p",
        "colab_type": "code",
        "colab": {}
      },
      "source": [
        "# TODO: perform necessary adjustments to the dataframe\n",
        "#df[\"infected\"] = df[\"infected\"].map(lambda x: \"1\" if x == \"infected\" else \"0\")\n",
        "df[\"file_id\"] = df[\"file_id\"].map(lambda x: x[2:] )\n",
        "df.head()"
      ],
      "execution_count": 0,
      "outputs": []
    },
    {
      "cell_type": "code",
      "metadata": {
        "id": "Ja_zq_BtlopN",
        "colab_type": "code",
        "colab": {}
      },
      "source": [
        "\n",
        "# TODO: Add a column to store the prediction value\n",
        "def predict_val_prob(filename):\n",
        "    \n",
        "    file_path = os.path.join(TRAINING_PATH,filename)\n",
        "    img = load_img(file_path, color_mode='grayscale', target_size=(img_height,img_width) )\n",
        "    img_array = img_to_array(img)\n",
        "\n",
        "    img_array = img_array * (1./255) #scaling the data\n",
        "    dim_array= np.array([img_array]) #tranforming to 4D array required as input\n",
        "    \n",
        "    prediction = model.predict(dim_array, verbose = 0)\n",
        "    \n",
        "    return np.argmax(prediction[0])\n",
        "\n",
        "# TODO: Iterate over each file in df and perform the prediction using the model. update the prediction column wiht the value\n",
        "\n",
        "df[\"predicted\"] = df[\"file_id\"].map(lambda x: predict_val_prob(x) )\n",
        "\n"
      ],
      "execution_count": 0,
      "outputs": []
    },
    {
      "cell_type": "code",
      "metadata": {
        "id": "QlLyltk6or3h",
        "colab_type": "code",
        "colab": {}
      },
      "source": [
        "correct_results= df[df.accent == df.predicted]\n",
        "count_accurate = correct_results.count()[\"file_id\"]\n",
        "total_count = df.count()[\"file_id\"]\n",
        "print(f\"correct results percentage: {count_accurate/total_count}\")\n",
        "correct_results.head()\n",
        "# TODO: Add a column to transform the probabilty into the actual class ( 1= infected, 0= not infected)\n",
        "# TODO: Use sklearn functions for auc, confusion matrix, precision and recall, etc\n",
        "\n"
      ],
      "execution_count": 0,
      "outputs": []
    },
    {
      "cell_type": "code",
      "metadata": {
        "id": "G-Q5nPzOqWoG",
        "colab_type": "code",
        "colab": {}
      },
      "source": [
        "#from sklearn.metrics import log_loss\n",
        "\n",
        "#log_loss(df[\"infected\"],df[\"predicted\"])\n",
        "\n",
        "# TODO: Use the same log loss formula as in the case description to calculate the log loss of the predicted values"
      ],
      "execution_count": 0,
      "outputs": []
    },
    {
      "cell_type": "code",
      "metadata": {
        "id": "br3GWxhh7ZqR",
        "colab_type": "code",
        "colab": {}
      },
      "source": [
        "#simple model test\n",
        "file_path =\"/content/accent_detection/train/13242.png\"\n",
        "\n",
        "\n",
        "from skimage import io\n",
        "\n",
        "\n",
        "\n",
        "#img = io.imread(file_path, as_gray=True)\n",
        "#print(f\"Processing file {file_path} ...\")\n",
        "img = load_img(file_path, color_mode='grayscale', target_size=(img_height,img_width) )\n",
        "img_array = img_to_array(img)\n",
        "print(img_array.shape)\n",
        "img_array = img_array * (1./255) #scaling the data\n",
        "dim_array= np.array([img_array]) #tranforming to 4D array required as input\n",
        "\n",
        "prediction = model.predict(dim_array, verbose = 0)\n",
        "\n",
        "print(prediction)\n",
        "print(np.argmax(prediction[0]))"
      ],
      "execution_count": 0,
      "outputs": []
    },
    {
      "cell_type": "markdown",
      "metadata": {
        "id": "KfR-3zXtifNg",
        "colab_type": "text"
      },
      "source": [
        "# Save answers for submission"
      ]
    },
    {
      "cell_type": "code",
      "metadata": {
        "id": "veLkTxzpUYCp",
        "colab_type": "code",
        "colab": {}
      },
      "source": [
        "if RETRAIN:\n",
        "    model= load_model(f\"{OUTPUT_FOLDER}CustomNet_{NBV}_retrained_best.hdf5\")\n",
        "\n",
        "else:\n",
        "    model= load_model(f\"{OUTPUT_FOLDER}CustomNet_{NBV}_best.hdf5\")\n",
        "\n"
      ],
      "execution_count": 0,
      "outputs": []
    },
    {
      "cell_type": "code",
      "metadata": {
        "id": "b94QXZmyQ0mZ",
        "colab_type": "code",
        "colab": {}
      },
      "source": [
        "\n",
        "test_dir= TEST_PATH\n",
        "\n",
        "\n",
        "with open(f\"/content/accent_detection/submission_format.csv\", mode='r') as submission_format:\n",
        "    csv_reader = csv.reader(submission_format, delimiter=',')\n",
        "\n",
        "    with open(f\"{OUTPUT_FOLDER}answers_{NBV}_.csv\", 'w', newline='') as csvfile:\n",
        "        csv_writer = csv.writer(csvfile, delimiter=',',\n",
        "                                quotechar='|', quoting=csv.QUOTE_NONE)\n",
        "        \n",
        "        csv_writer.writerow([\"file_id\",\"accent\"]) # write header of answer file\n",
        "\n",
        "        for row in csv_reader:\n",
        "            if row[0] != \"file_id\": #skip reading the header row\n",
        "                file_path =os.path.join(test_dir,f\"{row[0]}.png\")\n",
        "\n",
        "                #print(f\"Processing file {file_path} ...\")\n",
        "                img = load_img(file_path, color_mode='grayscale', target_size=(img_height,img_width) )\n",
        "                img_array = img_to_array(img)\n",
        "\n",
        "                img_array = img_array * (1./255) #scaling the data\n",
        "                dim_array= np.array([img_array]) #tranforming to 4D array required as input\n",
        "                \n",
        "                prediction = model.predict(dim_array, verbose = 0)\n",
        "\n",
        "                #print(\"Prediction for file {0} = {1}\".format(row[0],prediction[0]))\n",
        "                csv_writer.writerow([row[0], \"{0}\".format(np.argmax(prediction[0]))])\n",
        "\n",
        "\n",
        "print(\"Done!\")"
      ],
      "execution_count": 0,
      "outputs": []
    },
    {
      "cell_type": "markdown",
      "metadata": {
        "id": "1YV-PbMvMRtM",
        "colab_type": "text"
      },
      "source": [
        "# Inspirational references"
      ]
    },
    {
      "cell_type": "markdown",
      "metadata": {
        "id": "au3pi0DEXOG4",
        "colab_type": "text"
      },
      "source": [
        "https://medium.com/@vijayabhaskar96/tutorial-on-keras-imagedatagenerator-with-flow-from-dataframe-8bd5776e45c1\n",
        "\n",
        "https://blog.keras.io/building-powerful-image-classification-models-using-very-little-data.html\n",
        "\n",
        "https://medium.com/@14prakash/transfer-learning-using-keras-d804b2e04ef8\n",
        "\n",
        "https://software.intel.com/en-us/articles/hands-on-ai-part-14-image-data-preprocessing-and-augmentation\n",
        "\n",
        "Resnet: https://towardsdatascience.com/hitchhikers-guide-to-residual-networks-resnet-in-keras-385ec01ec8ff\n",
        "\n",
        "### Troubleshooting\n",
        "https://blog.slavv.com/37-reasons-why-your-neural-network-is-not-working-4020854bd607\n",
        "\n",
        "https://www.analyticsvidhya.com/blog/2016/10/tutorial-optimizing-neural-networks-using-keras-with-image-recognition-case-study/"
      ]
    },
    {
      "cell_type": "code",
      "metadata": {
        "id": "J4x6LkyqhUsh",
        "colab_type": "code",
        "colab": {}
      },
      "source": [
        ""
      ],
      "execution_count": 0,
      "outputs": []
    }
  ]
}
